{
 "cells": [
  {
   "cell_type": "code",
   "execution_count": 1,
   "id": "078d90d4-aec6-40fe-997f-ce63c962d936",
   "metadata": {},
   "outputs": [],
   "source": [
    "%matplotlib inline"
   ]
  },
  {
   "cell_type": "code",
   "execution_count": 104,
   "id": "5cf1e1ff-80c2-4040-86fe-08a14d011cc2",
   "metadata": {},
   "outputs": [],
   "source": [
    "import numpy as np\n",
    "import pandas as pd\n",
    "import matplotlib.pyplot as plt\n",
    "\n",
    "from IPython.display import display\n",
    "import seaborn as sns"
   ]
  },
  {
   "cell_type": "markdown",
   "id": "02aa71be-5d01-4efc-85fa-a019fe92a39a",
   "metadata": {},
   "source": [
    "# Data Tidying and Cleaning Lab\n",
    "## Reading, tidying and cleaning data. Preparing data for exploration, mining, analysis and learning"
   ]
  },
  {
   "cell_type": "markdown",
   "id": "259927d3-4ad5-471e-b34b-114f07127a39",
   "metadata": {},
   "source": [
    "In this lab, you'll be working with the Coffee Quality Index dataset, located [here](https://www.kaggle.com/datasets/volpatto/coffee-quality-database-from-cqi). For convenience (and to save trouble in case you can't download files, or someone uploads a newer version), I've provided the dataset in the `data/` folder. The metadata (description) is at the Kaggle link. For this lab, you'll only need `merged_data_cleaned.csv`, as it is the concatenation of the other two datasets.\n",
    "\n",
    "In this (and the following labs), you'll get several questions and problems. Do your analysis, describe it, use any tools and plots you wish, and answer. You can create any amount of cells you'd like.\n",
    "\n",
    "Sometimes, the answers will not be unique, and they will depend on how you decide to approach and solve the problem. This is usual - we're doing science after all!\n",
    "\n",
    "It's a good idea to save your clean dataset after all the work you've done to it."
   ]
  },
  {
   "cell_type": "markdown",
   "id": "4450ac8e-523c-46f8-a410-9ad5af4cfc14",
   "metadata": {},
   "source": [
    "### Problem 1. Read the dataset (1 point)\n",
    "This should be self-explanatory. The first column is the index."
   ]
  },
  {
   "cell_type": "markdown",
   "id": "d632222f-468b-4669-93e2-06a12d52b728",
   "metadata": {},
   "source": [
    "Here read data from file and set first column for index"
   ]
  },
  {
   "cell_type": "code",
   "execution_count": 3,
   "id": "df50bd71-ea2a-4db9-814d-c49f782ca101",
   "metadata": {},
   "outputs": [],
   "source": [
    "coffee_data = pd.read_csv('data/merged_data_cleaned.csv', index_col=0)"
   ]
  },
  {
   "cell_type": "markdown",
   "id": "b278e2a8-56b4-4b1a-ad71-e7b920321e37",
   "metadata": {},
   "source": [
    "### Problem 2. Observations and features (1 point)\n",
    "How many observations are there? How many features? Which features are numerical, and which are categorical?\n",
    "\n",
    "**Note:** Think about the _meaning_, not the data types. The dataset hasn't been thoroughly cleaned."
   ]
  },
  {
   "cell_type": "markdown",
   "id": "b7e05652-0ef7-4ad6-b957-0f7db6d9b371",
   "metadata": {},
   "source": [
    "With shape give the measure on Data Frame"
   ]
  },
  {
   "cell_type": "code",
   "execution_count": 4,
   "id": "c5ecb63c-4192-4f5f-a323-e3d2e0f35a03",
   "metadata": {},
   "outputs": [
    {
     "data": {
      "text/plain": [
       "(1339, 43)"
      ]
     },
     "execution_count": 4,
     "metadata": {},
     "output_type": "execute_result"
    }
   ],
   "source": [
    "coffee_data.shape"
   ]
  },
  {
   "cell_type": "markdown",
   "id": "2d98353f-04d7-418e-92f0-40407cd9dfe5",
   "metadata": {},
   "source": [
    "**Now get all columns name**"
   ]
  },
  {
   "cell_type": "code",
   "execution_count": 5,
   "id": "131d38f1-8973-438f-8891-4a88b107df3b",
   "metadata": {},
   "outputs": [
    {
     "data": {
      "text/plain": [
       "Index(['Species', 'Owner', 'Country.of.Origin', 'Farm.Name', 'Lot.Number',\n",
       "       'Mill', 'ICO.Number', 'Company', 'Altitude', 'Region', 'Producer',\n",
       "       'Number.of.Bags', 'Bag.Weight', 'In.Country.Partner', 'Harvest.Year',\n",
       "       'Grading.Date', 'Owner.1', 'Variety', 'Processing.Method', 'Aroma',\n",
       "       'Flavor', 'Aftertaste', 'Acidity', 'Body', 'Balance', 'Uniformity',\n",
       "       'Clean.Cup', 'Sweetness', 'Cupper.Points', 'Total.Cup.Points',\n",
       "       'Moisture', 'Category.One.Defects', 'Quakers', 'Color',\n",
       "       'Category.Two.Defects', 'Expiration', 'Certification.Body',\n",
       "       'Certification.Address', 'Certification.Contact', 'unit_of_measurement',\n",
       "       'altitude_low_meters', 'altitude_high_meters', 'altitude_mean_meters'],\n",
       "      dtype='object')"
      ]
     },
     "execution_count": 5,
     "metadata": {},
     "output_type": "execute_result"
    }
   ],
   "source": [
    "coffee_data.columns"
   ]
  },
  {
   "cell_type": "markdown",
   "id": "5f2b1189-07ac-4a1c-94cc-4b6b9bfe68ff",
   "metadata": {},
   "source": [
    "**With .dtype** get type on each column"
   ]
  },
  {
   "cell_type": "code",
   "execution_count": 6,
   "id": "5b5a500b-aa84-46bf-9c5a-7500b952107a",
   "metadata": {},
   "outputs": [
    {
     "data": {
      "text/plain": [
       "Species                   object\n",
       "Owner                     object\n",
       "Country.of.Origin         object\n",
       "Farm.Name                 object\n",
       "Lot.Number                object\n",
       "Mill                      object\n",
       "ICO.Number                object\n",
       "Company                   object\n",
       "Altitude                  object\n",
       "Region                    object\n",
       "Producer                  object\n",
       "Number.of.Bags             int64\n",
       "Bag.Weight                object\n",
       "In.Country.Partner        object\n",
       "Harvest.Year              object\n",
       "Grading.Date              object\n",
       "Owner.1                   object\n",
       "Variety                   object\n",
       "Processing.Method         object\n",
       "Aroma                    float64\n",
       "Flavor                   float64\n",
       "Aftertaste               float64\n",
       "Acidity                  float64\n",
       "Body                     float64\n",
       "Balance                  float64\n",
       "Uniformity               float64\n",
       "Clean.Cup                float64\n",
       "Sweetness                float64\n",
       "Cupper.Points            float64\n",
       "Total.Cup.Points         float64\n",
       "Moisture                 float64\n",
       "Category.One.Defects       int64\n",
       "Quakers                  float64\n",
       "Color                     object\n",
       "Category.Two.Defects       int64\n",
       "Expiration                object\n",
       "Certification.Body        object\n",
       "Certification.Address     object\n",
       "Certification.Contact     object\n",
       "unit_of_measurement       object\n",
       "altitude_low_meters      float64\n",
       "altitude_high_meters     float64\n",
       "altitude_mean_meters     float64\n",
       "dtype: object"
      ]
     },
     "execution_count": 6,
     "metadata": {},
     "output_type": "execute_result"
    }
   ],
   "source": [
    "coffee_data.dtypes"
   ]
  },
  {
   "cell_type": "markdown",
   "id": "592b8fa9-3612-4a13-84e7-cb66900712b5",
   "metadata": {},
   "source": [
    "**.describe** five common statistic measure on number comlumns *have to attention with categories variables*"
   ]
  },
  {
   "cell_type": "code",
   "execution_count": 7,
   "id": "910dda61-ac98-43ce-9210-4c82f09494b4",
   "metadata": {},
   "outputs": [
    {
     "data": {
      "text/html": [
       "<div>\n",
       "<style scoped>\n",
       "    .dataframe tbody tr th:only-of-type {\n",
       "        vertical-align: middle;\n",
       "    }\n",
       "\n",
       "    .dataframe tbody tr th {\n",
       "        vertical-align: top;\n",
       "    }\n",
       "\n",
       "    .dataframe thead th {\n",
       "        text-align: right;\n",
       "    }\n",
       "</style>\n",
       "<table border=\"1\" class=\"dataframe\">\n",
       "  <thead>\n",
       "    <tr style=\"text-align: right;\">\n",
       "      <th></th>\n",
       "      <th>count</th>\n",
       "      <th>mean</th>\n",
       "      <th>std</th>\n",
       "      <th>min</th>\n",
       "      <th>25%</th>\n",
       "      <th>50%</th>\n",
       "      <th>75%</th>\n",
       "      <th>max</th>\n",
       "    </tr>\n",
       "  </thead>\n",
       "  <tbody>\n",
       "    <tr>\n",
       "      <th>Number.of.Bags</th>\n",
       "      <td>1339.0</td>\n",
       "      <td>154.182972</td>\n",
       "      <td>129.987162</td>\n",
       "      <td>0.0</td>\n",
       "      <td>14.00</td>\n",
       "      <td>175.00</td>\n",
       "      <td>275.00</td>\n",
       "      <td>1062.00</td>\n",
       "    </tr>\n",
       "    <tr>\n",
       "      <th>Aroma</th>\n",
       "      <td>1339.0</td>\n",
       "      <td>7.566706</td>\n",
       "      <td>0.377560</td>\n",
       "      <td>0.0</td>\n",
       "      <td>7.42</td>\n",
       "      <td>7.58</td>\n",
       "      <td>7.75</td>\n",
       "      <td>8.75</td>\n",
       "    </tr>\n",
       "    <tr>\n",
       "      <th>Flavor</th>\n",
       "      <td>1339.0</td>\n",
       "      <td>7.520426</td>\n",
       "      <td>0.398442</td>\n",
       "      <td>0.0</td>\n",
       "      <td>7.33</td>\n",
       "      <td>7.58</td>\n",
       "      <td>7.75</td>\n",
       "      <td>8.83</td>\n",
       "    </tr>\n",
       "    <tr>\n",
       "      <th>Aftertaste</th>\n",
       "      <td>1339.0</td>\n",
       "      <td>7.401083</td>\n",
       "      <td>0.404463</td>\n",
       "      <td>0.0</td>\n",
       "      <td>7.25</td>\n",
       "      <td>7.42</td>\n",
       "      <td>7.58</td>\n",
       "      <td>8.67</td>\n",
       "    </tr>\n",
       "    <tr>\n",
       "      <th>Acidity</th>\n",
       "      <td>1339.0</td>\n",
       "      <td>7.535706</td>\n",
       "      <td>0.379827</td>\n",
       "      <td>0.0</td>\n",
       "      <td>7.33</td>\n",
       "      <td>7.58</td>\n",
       "      <td>7.75</td>\n",
       "      <td>8.75</td>\n",
       "    </tr>\n",
       "    <tr>\n",
       "      <th>Body</th>\n",
       "      <td>1339.0</td>\n",
       "      <td>7.517498</td>\n",
       "      <td>0.370064</td>\n",
       "      <td>0.0</td>\n",
       "      <td>7.33</td>\n",
       "      <td>7.50</td>\n",
       "      <td>7.67</td>\n",
       "      <td>8.58</td>\n",
       "    </tr>\n",
       "    <tr>\n",
       "      <th>Balance</th>\n",
       "      <td>1339.0</td>\n",
       "      <td>7.518013</td>\n",
       "      <td>0.408943</td>\n",
       "      <td>0.0</td>\n",
       "      <td>7.33</td>\n",
       "      <td>7.50</td>\n",
       "      <td>7.75</td>\n",
       "      <td>8.75</td>\n",
       "    </tr>\n",
       "    <tr>\n",
       "      <th>Uniformity</th>\n",
       "      <td>1339.0</td>\n",
       "      <td>9.834877</td>\n",
       "      <td>0.554591</td>\n",
       "      <td>0.0</td>\n",
       "      <td>10.00</td>\n",
       "      <td>10.00</td>\n",
       "      <td>10.00</td>\n",
       "      <td>10.00</td>\n",
       "    </tr>\n",
       "    <tr>\n",
       "      <th>Clean.Cup</th>\n",
       "      <td>1339.0</td>\n",
       "      <td>9.835108</td>\n",
       "      <td>0.763946</td>\n",
       "      <td>0.0</td>\n",
       "      <td>10.00</td>\n",
       "      <td>10.00</td>\n",
       "      <td>10.00</td>\n",
       "      <td>10.00</td>\n",
       "    </tr>\n",
       "    <tr>\n",
       "      <th>Sweetness</th>\n",
       "      <td>1339.0</td>\n",
       "      <td>9.856692</td>\n",
       "      <td>0.616102</td>\n",
       "      <td>0.0</td>\n",
       "      <td>10.00</td>\n",
       "      <td>10.00</td>\n",
       "      <td>10.00</td>\n",
       "      <td>10.00</td>\n",
       "    </tr>\n",
       "    <tr>\n",
       "      <th>Cupper.Points</th>\n",
       "      <td>1339.0</td>\n",
       "      <td>7.503376</td>\n",
       "      <td>0.473464</td>\n",
       "      <td>0.0</td>\n",
       "      <td>7.25</td>\n",
       "      <td>7.50</td>\n",
       "      <td>7.75</td>\n",
       "      <td>10.00</td>\n",
       "    </tr>\n",
       "    <tr>\n",
       "      <th>Total.Cup.Points</th>\n",
       "      <td>1339.0</td>\n",
       "      <td>82.089851</td>\n",
       "      <td>3.500575</td>\n",
       "      <td>0.0</td>\n",
       "      <td>81.08</td>\n",
       "      <td>82.50</td>\n",
       "      <td>83.67</td>\n",
       "      <td>90.58</td>\n",
       "    </tr>\n",
       "    <tr>\n",
       "      <th>Moisture</th>\n",
       "      <td>1339.0</td>\n",
       "      <td>0.088379</td>\n",
       "      <td>0.048287</td>\n",
       "      <td>0.0</td>\n",
       "      <td>0.09</td>\n",
       "      <td>0.11</td>\n",
       "      <td>0.12</td>\n",
       "      <td>0.28</td>\n",
       "    </tr>\n",
       "    <tr>\n",
       "      <th>Category.One.Defects</th>\n",
       "      <td>1339.0</td>\n",
       "      <td>0.479462</td>\n",
       "      <td>2.549683</td>\n",
       "      <td>0.0</td>\n",
       "      <td>0.00</td>\n",
       "      <td>0.00</td>\n",
       "      <td>0.00</td>\n",
       "      <td>63.00</td>\n",
       "    </tr>\n",
       "    <tr>\n",
       "      <th>Quakers</th>\n",
       "      <td>1338.0</td>\n",
       "      <td>0.173393</td>\n",
       "      <td>0.832121</td>\n",
       "      <td>0.0</td>\n",
       "      <td>0.00</td>\n",
       "      <td>0.00</td>\n",
       "      <td>0.00</td>\n",
       "      <td>11.00</td>\n",
       "    </tr>\n",
       "    <tr>\n",
       "      <th>Category.Two.Defects</th>\n",
       "      <td>1339.0</td>\n",
       "      <td>3.556385</td>\n",
       "      <td>5.312541</td>\n",
       "      <td>0.0</td>\n",
       "      <td>0.00</td>\n",
       "      <td>2.00</td>\n",
       "      <td>4.00</td>\n",
       "      <td>55.00</td>\n",
       "    </tr>\n",
       "    <tr>\n",
       "      <th>altitude_low_meters</th>\n",
       "      <td>1109.0</td>\n",
       "      <td>1750.713315</td>\n",
       "      <td>8669.440545</td>\n",
       "      <td>1.0</td>\n",
       "      <td>1100.00</td>\n",
       "      <td>1310.64</td>\n",
       "      <td>1600.00</td>\n",
       "      <td>190164.00</td>\n",
       "    </tr>\n",
       "    <tr>\n",
       "      <th>altitude_high_meters</th>\n",
       "      <td>1109.0</td>\n",
       "      <td>1799.347775</td>\n",
       "      <td>8668.805771</td>\n",
       "      <td>1.0</td>\n",
       "      <td>1100.00</td>\n",
       "      <td>1350.00</td>\n",
       "      <td>1650.00</td>\n",
       "      <td>190164.00</td>\n",
       "    </tr>\n",
       "    <tr>\n",
       "      <th>altitude_mean_meters</th>\n",
       "      <td>1109.0</td>\n",
       "      <td>1775.030545</td>\n",
       "      <td>8668.626080</td>\n",
       "      <td>1.0</td>\n",
       "      <td>1100.00</td>\n",
       "      <td>1310.64</td>\n",
       "      <td>1600.00</td>\n",
       "      <td>190164.00</td>\n",
       "    </tr>\n",
       "  </tbody>\n",
       "</table>\n",
       "</div>"
      ],
      "text/plain": [
       "                       count         mean          std  min      25%      50%  \\\n",
       "Number.of.Bags        1339.0   154.182972   129.987162  0.0    14.00   175.00   \n",
       "Aroma                 1339.0     7.566706     0.377560  0.0     7.42     7.58   \n",
       "Flavor                1339.0     7.520426     0.398442  0.0     7.33     7.58   \n",
       "Aftertaste            1339.0     7.401083     0.404463  0.0     7.25     7.42   \n",
       "Acidity               1339.0     7.535706     0.379827  0.0     7.33     7.58   \n",
       "Body                  1339.0     7.517498     0.370064  0.0     7.33     7.50   \n",
       "Balance               1339.0     7.518013     0.408943  0.0     7.33     7.50   \n",
       "Uniformity            1339.0     9.834877     0.554591  0.0    10.00    10.00   \n",
       "Clean.Cup             1339.0     9.835108     0.763946  0.0    10.00    10.00   \n",
       "Sweetness             1339.0     9.856692     0.616102  0.0    10.00    10.00   \n",
       "Cupper.Points         1339.0     7.503376     0.473464  0.0     7.25     7.50   \n",
       "Total.Cup.Points      1339.0    82.089851     3.500575  0.0    81.08    82.50   \n",
       "Moisture              1339.0     0.088379     0.048287  0.0     0.09     0.11   \n",
       "Category.One.Defects  1339.0     0.479462     2.549683  0.0     0.00     0.00   \n",
       "Quakers               1338.0     0.173393     0.832121  0.0     0.00     0.00   \n",
       "Category.Two.Defects  1339.0     3.556385     5.312541  0.0     0.00     2.00   \n",
       "altitude_low_meters   1109.0  1750.713315  8669.440545  1.0  1100.00  1310.64   \n",
       "altitude_high_meters  1109.0  1799.347775  8668.805771  1.0  1100.00  1350.00   \n",
       "altitude_mean_meters  1109.0  1775.030545  8668.626080  1.0  1100.00  1310.64   \n",
       "\n",
       "                          75%        max  \n",
       "Number.of.Bags         275.00    1062.00  \n",
       "Aroma                    7.75       8.75  \n",
       "Flavor                   7.75       8.83  \n",
       "Aftertaste               7.58       8.67  \n",
       "Acidity                  7.75       8.75  \n",
       "Body                     7.67       8.58  \n",
       "Balance                  7.75       8.75  \n",
       "Uniformity              10.00      10.00  \n",
       "Clean.Cup               10.00      10.00  \n",
       "Sweetness               10.00      10.00  \n",
       "Cupper.Points            7.75      10.00  \n",
       "Total.Cup.Points        83.67      90.58  \n",
       "Moisture                 0.12       0.28  \n",
       "Category.One.Defects     0.00      63.00  \n",
       "Quakers                  0.00      11.00  \n",
       "Category.Two.Defects     4.00      55.00  \n",
       "altitude_low_meters   1600.00  190164.00  \n",
       "altitude_high_meters  1650.00  190164.00  \n",
       "altitude_mean_meters  1600.00  190164.00  "
      ]
     },
     "execution_count": 7,
     "metadata": {},
     "output_type": "execute_result"
    }
   ],
   "source": [
    "coffee_data.describe().T"
   ]
  },
  {
   "cell_type": "markdown",
   "id": "ecf66826-802d-462c-960d-abff73413a42",
   "metadata": {},
   "source": []
  },
  {
   "cell_type": "code",
   "execution_count": 8,
   "id": "b7975af4-41ac-4f36-a63e-39f5006ea8ac",
   "metadata": {},
   "outputs": [
    {
     "data": {
      "text/plain": [
       "Species                    2\n",
       "unit_of_measurement        2\n",
       "Color                      4\n",
       "Processing.Method          6\n",
       "Uniformity                10\n",
       "Clean.Cup                 11\n",
       "Quakers                   12\n",
       "Sweetness                 17\n",
       "Category.One.Defects      18\n",
       "Moisture                  23\n",
       "Certification.Body        26\n",
       "In.Country.Partner        27\n",
       "Certification.Contact     29\n",
       "Variety                   30\n",
       "Acidity                   31\n",
       "Certification.Address     32\n",
       "Balance                   33\n",
       "Body                      33\n",
       "Aroma                     33\n",
       "Flavor                    35\n",
       "Aftertaste                35\n",
       "Country.of.Origin         37\n",
       "Category.Two.Defects      38\n",
       "Cupper.Points             42\n",
       "Harvest.Year              47\n",
       "Bag.Weight                56\n",
       "Number.of.Bags           131\n",
       "Total.Cup.Points         180\n",
       "altitude_high_meters     199\n",
       "altitude_low_meters      199\n",
       "altitude_mean_meters     212\n",
       "Lot.Number               228\n",
       "Company                  282\n",
       "Owner                    316\n",
       "Owner.1                  320\n",
       "Region                   357\n",
       "Altitude                 397\n",
       "Mill                     460\n",
       "Expiration               566\n",
       "Grading.Date             567\n",
       "Farm.Name                572\n",
       "Producer                 693\n",
       "ICO.Number               847\n",
       "dtype: int64"
      ]
     },
     "execution_count": 8,
     "metadata": {},
     "output_type": "execute_result"
    }
   ],
   "source": [
    "coffee_data.nunique(dropna=False).sort_values()"
   ]
  },
  {
   "cell_type": "markdown",
   "id": "2b745e68-35eb-4acb-b39f-513137f0ee4b",
   "metadata": {},
   "source": [
    "### Problem 3. Column manipulation (1 point)\n",
    "Make the column names more Pythonic (which helps with the quality and... aesthetics). Convert column names to `snake_case`, i.e. `species`, `country_of_origin`, `ico_number`, etc. Try to not do it manually."
   ]
  },
  {
   "cell_type": "markdown",
   "id": "7abf5f2e-7a51-4bdf-a9b2-4f25e8260351",
   "metadata": {},
   "source": [
    "Using reges about to change columns names on snake_case"
   ]
  },
  {
   "cell_type": "code",
   "execution_count": 9,
   "id": "301e9f3f-afd6-4a91-a32f-1974584694ca",
   "metadata": {},
   "outputs": [],
   "source": [
    "coffee_data.columns = coffee_data.columns.str.lower().str.replace(r'[. ]', '_', regex=True)"
   ]
  },
  {
   "cell_type": "code",
   "execution_count": 10,
   "id": "2e893612-c306-4725-b8f5-395792c2a6e2",
   "metadata": {},
   "outputs": [
    {
     "data": {
      "text/plain": [
       "Index(['species', 'owner', 'country_of_origin', 'farm_name', 'lot_number',\n",
       "       'mill', 'ico_number', 'company', 'altitude', 'region', 'producer',\n",
       "       'number_of_bags', 'bag_weight', 'in_country_partner', 'harvest_year',\n",
       "       'grading_date', 'owner_1', 'variety', 'processing_method', 'aroma',\n",
       "       'flavor', 'aftertaste', 'acidity', 'body', 'balance', 'uniformity',\n",
       "       'clean_cup', 'sweetness', 'cupper_points', 'total_cup_points',\n",
       "       'moisture', 'category_one_defects', 'quakers', 'color',\n",
       "       'category_two_defects', 'expiration', 'certification_body',\n",
       "       'certification_address', 'certification_contact', 'unit_of_measurement',\n",
       "       'altitude_low_meters', 'altitude_high_meters', 'altitude_mean_meters'],\n",
       "      dtype='object')"
      ]
     },
     "execution_count": 10,
     "metadata": {},
     "output_type": "execute_result"
    }
   ],
   "source": [
    "coffee_data.columns"
   ]
  },
  {
   "cell_type": "markdown",
   "id": "8c53c4c6-6eb9-4c92-bd39-89286fe4c86e",
   "metadata": {},
   "source": [
    "### Problem 4. Bag weight (1 point)\n",
    "What's up with the bag weights? Make all necessary changes to the column values. Don't forget to document your methods and assumptions."
   ]
  },
  {
   "cell_type": "markdown",
   "id": "f0c3aba0-20e4-40c0-bc1f-f28a056be158",
   "metadata": {},
   "source": [
    "First we check what values have at column bag_weight and see it have number plus space plus kind unit of measurment. With methods split and value _counts we see how many kind unit of measurement have including NaN"
   ]
  },
  {
   "cell_type": "code",
   "execution_count": 11,
   "id": "8e97f3d0-1223-49a7-99a9-51a65e4ff4e0",
   "metadata": {},
   "outputs": [
    {
     "data": {
      "text/plain": [
       "1\n",
       "kg        1196\n",
       "lbs        114\n",
       "None        27\n",
       "kg,lbs       2\n",
       "Name: count, dtype: int64"
      ]
     },
     "execution_count": 11,
     "metadata": {},
     "output_type": "execute_result"
    }
   ],
   "source": [
    "coffee_data.bag_weight.str.split(' ', n=1, expand=True, )[1].value_counts(dropna=False)"
   ]
  },
  {
   "cell_type": "markdown",
   "id": "6ad878d5-41a3-4ebe-bf6e-402898cdb7e6",
   "metadata": {},
   "source": [
    "Now we going to add two columns in the Data Frame coffee_data first value of measurment and unit of measurment. Nest set value of measurment as number"
   ]
  },
  {
   "cell_type": "code",
   "execution_count": 12,
   "id": "842fb6ee-a394-4b86-bb94-9c1093a2d4a6",
   "metadata": {},
   "outputs": [],
   "source": [
    "coffee_data[['values_of_measurement_bag', 'unit_of_measurement_bag']] = coffee_data.bag_weight.str.split(' ', n=1, expand=True)\n",
    "coffee_data.values_of_measurement_bag = coffee_data.values_of_measurement_bag.astype(float)"
   ]
  },
  {
   "cell_type": "markdown",
   "id": "5d6acd81-9309-4ca6-aa36-aa8270d6eaa0",
   "metadata": {},
   "source": [
    "As we now unit_of_measurment can be kg, lbs, both or none. We'll get min, max and meam value for evry type value to understand both and none which type are."
   ]
  },
  {
   "cell_type": "code",
   "execution_count": 13,
   "id": "85c39659-2cc8-4417-99cb-96a29af275e4",
   "metadata": {},
   "outputs": [
    {
     "data": {
      "text/html": [
       "<div>\n",
       "<style scoped>\n",
       "    .dataframe tbody tr th:only-of-type {\n",
       "        vertical-align: middle;\n",
       "    }\n",
       "\n",
       "    .dataframe tbody tr th {\n",
       "        vertical-align: top;\n",
       "    }\n",
       "\n",
       "    .dataframe thead th {\n",
       "        text-align: right;\n",
       "    }\n",
       "</style>\n",
       "<table border=\"1\" class=\"dataframe\">\n",
       "  <thead>\n",
       "    <tr style=\"text-align: right;\">\n",
       "      <th></th>\n",
       "      <th>min</th>\n",
       "      <th>max</th>\n",
       "      <th>mean</th>\n",
       "    </tr>\n",
       "    <tr>\n",
       "      <th>unit_of_measurement_bag</th>\n",
       "      <th></th>\n",
       "      <th></th>\n",
       "      <th></th>\n",
       "    </tr>\n",
       "  </thead>\n",
       "  <tbody>\n",
       "    <tr>\n",
       "      <th>kg</th>\n",
       "      <td>0.0</td>\n",
       "      <td>19200.0</td>\n",
       "      <td>197.505017</td>\n",
       "    </tr>\n",
       "    <tr>\n",
       "      <th>kg,lbs</th>\n",
       "      <td>1.0</td>\n",
       "      <td>2.0</td>\n",
       "      <td>1.500000</td>\n",
       "    </tr>\n",
       "    <tr>\n",
       "      <th>lbs</th>\n",
       "      <td>0.0</td>\n",
       "      <td>150.0</td>\n",
       "      <td>58.043860</td>\n",
       "    </tr>\n",
       "    <tr>\n",
       "      <th>NaN</th>\n",
       "      <td>1.0</td>\n",
       "      <td>6.0</td>\n",
       "      <td>4.555556</td>\n",
       "    </tr>\n",
       "  </tbody>\n",
       "</table>\n",
       "</div>"
      ],
      "text/plain": [
       "                         min      max        mean\n",
       "unit_of_measurement_bag                          \n",
       "kg                       0.0  19200.0  197.505017\n",
       "kg,lbs                   1.0      2.0    1.500000\n",
       "lbs                      0.0    150.0   58.043860\n",
       "NaN                      1.0      6.0    4.555556"
      ]
     },
     "execution_count": 13,
     "metadata": {},
     "output_type": "execute_result"
    }
   ],
   "source": [
    "coffee_data.groupby('unit_of_measurement_bag', dropna=False)['values_of_measurement_bag'].agg(['min', 'max', 'mean'])"
   ]
  },
  {
   "cell_type": "markdown",
   "id": "ab821f0e-d589-4038-b0f4-7d8b5ea82460",
   "metadata": {},
   "source": [
    "How to see in coffee_data have other column named unit_of_measurement, but next check, which is show botton two sell, we can see it is unit for high - foot and meter"
   ]
  },
  {
   "cell_type": "code",
   "execution_count": 14,
   "id": "bc55be73-b657-4b24-98c3-d71ba5d72308",
   "metadata": {
    "scrolled": true
   },
   "outputs": [
    {
     "data": {
      "text/html": [
       "<div>\n",
       "<style scoped>\n",
       "    .dataframe tbody tr th:only-of-type {\n",
       "        vertical-align: middle;\n",
       "    }\n",
       "\n",
       "    .dataframe tbody tr th {\n",
       "        vertical-align: top;\n",
       "    }\n",
       "\n",
       "    .dataframe thead th {\n",
       "        text-align: right;\n",
       "    }\n",
       "</style>\n",
       "<table border=\"1\" class=\"dataframe\">\n",
       "  <thead>\n",
       "    <tr style=\"text-align: right;\">\n",
       "      <th></th>\n",
       "      <th>unit_of_measurement_bag</th>\n",
       "      <th>unit_of_measurement</th>\n",
       "    </tr>\n",
       "  </thead>\n",
       "  <tbody>\n",
       "    <tr>\n",
       "      <th>0</th>\n",
       "      <td>kg</td>\n",
       "      <td>m</td>\n",
       "    </tr>\n",
       "    <tr>\n",
       "      <th>1</th>\n",
       "      <td>kg</td>\n",
       "      <td>m</td>\n",
       "    </tr>\n",
       "    <tr>\n",
       "      <th>2</th>\n",
       "      <td>None</td>\n",
       "      <td>m</td>\n",
       "    </tr>\n",
       "    <tr>\n",
       "      <th>3</th>\n",
       "      <td>kg</td>\n",
       "      <td>m</td>\n",
       "    </tr>\n",
       "    <tr>\n",
       "      <th>4</th>\n",
       "      <td>kg</td>\n",
       "      <td>m</td>\n",
       "    </tr>\n",
       "    <tr>\n",
       "      <th>...</th>\n",
       "      <td>...</td>\n",
       "      <td>...</td>\n",
       "    </tr>\n",
       "    <tr>\n",
       "      <th>1334</th>\n",
       "      <td>kg</td>\n",
       "      <td>m</td>\n",
       "    </tr>\n",
       "    <tr>\n",
       "      <th>1335</th>\n",
       "      <td>kg</td>\n",
       "      <td>m</td>\n",
       "    </tr>\n",
       "    <tr>\n",
       "      <th>1336</th>\n",
       "      <td>kg</td>\n",
       "      <td>m</td>\n",
       "    </tr>\n",
       "    <tr>\n",
       "      <th>1337</th>\n",
       "      <td>lbs</td>\n",
       "      <td>m</td>\n",
       "    </tr>\n",
       "    <tr>\n",
       "      <th>1338</th>\n",
       "      <td>lbs</td>\n",
       "      <td>m</td>\n",
       "    </tr>\n",
       "  </tbody>\n",
       "</table>\n",
       "<p>1339 rows × 2 columns</p>\n",
       "</div>"
      ],
      "text/plain": [
       "     unit_of_measurement_bag unit_of_measurement\n",
       "0                         kg                   m\n",
       "1                         kg                   m\n",
       "2                       None                   m\n",
       "3                         kg                   m\n",
       "4                         kg                   m\n",
       "...                      ...                 ...\n",
       "1334                      kg                   m\n",
       "1335                      kg                   m\n",
       "1336                      kg                   m\n",
       "1337                     lbs                   m\n",
       "1338                     lbs                   m\n",
       "\n",
       "[1339 rows x 2 columns]"
      ]
     },
     "execution_count": 14,
     "metadata": {},
     "output_type": "execute_result"
    }
   ],
   "source": [
    "coffee_data[['unit_of_measurement_bag', 'unit_of_measurement']]"
   ]
  },
  {
   "cell_type": "code",
   "execution_count": 15,
   "id": "c9985b75-b446-45c6-8418-90af6443b490",
   "metadata": {},
   "outputs": [
    {
     "data": {
      "text/plain": [
       "unit_of_measurement\n",
       "m     1157\n",
       "ft     182\n",
       "Name: count, dtype: int64"
      ]
     },
     "execution_count": 15,
     "metadata": {},
     "output_type": "execute_result"
    }
   ],
   "source": [
    "coffee_data.unit_of_measurement.value_counts(dropna=False)"
   ]
  },
  {
   "cell_type": "markdown",
   "id": "e7e95518-906d-46a6-b90c-974c9589ec75",
   "metadata": {},
   "source": [
    "Now we are trying understen what measur are with NaN nad kg,lbs in unit_of_measurement_bag. For this propose we'll filter only this rows."
   ]
  },
  {
   "cell_type": "code",
   "execution_count": 16,
   "id": "b8974328-fa42-4684-801d-ec95d798202d",
   "metadata": {
    "scrolled": true
   },
   "outputs": [
    {
     "data": {
      "text/html": [
       "<div>\n",
       "<style scoped>\n",
       "    .dataframe tbody tr th:only-of-type {\n",
       "        vertical-align: middle;\n",
       "    }\n",
       "\n",
       "    .dataframe tbody tr th {\n",
       "        vertical-align: top;\n",
       "    }\n",
       "\n",
       "    .dataframe thead th {\n",
       "        text-align: right;\n",
       "    }\n",
       "</style>\n",
       "<table border=\"1\" class=\"dataframe\">\n",
       "  <thead>\n",
       "    <tr style=\"text-align: right;\">\n",
       "      <th></th>\n",
       "      <th>number_of_bags</th>\n",
       "      <th>bag_weight</th>\n",
       "      <th>in_country_partner</th>\n",
       "      <th>harvest_year</th>\n",
       "      <th>values_of_measurement_bag</th>\n",
       "      <th>unit_of_measurement_bag</th>\n",
       "    </tr>\n",
       "  </thead>\n",
       "  <tbody>\n",
       "    <tr>\n",
       "      <th>2</th>\n",
       "      <td>5</td>\n",
       "      <td>1</td>\n",
       "      <td>Specialty Coffee Association</td>\n",
       "      <td>NaN</td>\n",
       "      <td>1.0</td>\n",
       "      <td>None</td>\n",
       "    </tr>\n",
       "    <tr>\n",
       "      <th>13</th>\n",
       "      <td>1</td>\n",
       "      <td>1</td>\n",
       "      <td>Specialty Coffee Association</td>\n",
       "      <td>Sept 2009 - April 2010</td>\n",
       "      <td>1.0</td>\n",
       "      <td>None</td>\n",
       "    </tr>\n",
       "    <tr>\n",
       "      <th>16</th>\n",
       "      <td>1</td>\n",
       "      <td>2 kg,lbs</td>\n",
       "      <td>Specialty Coffee Association</td>\n",
       "      <td>May-August</td>\n",
       "      <td>2.0</td>\n",
       "      <td>kg,lbs</td>\n",
       "    </tr>\n",
       "    <tr>\n",
       "      <th>17</th>\n",
       "      <td>150</td>\n",
       "      <td>6</td>\n",
       "      <td>Ethiopia Commodity Exchange</td>\n",
       "      <td>2009/2010</td>\n",
       "      <td>6.0</td>\n",
       "      <td>None</td>\n",
       "    </tr>\n",
       "    <tr>\n",
       "      <th>26</th>\n",
       "      <td>150</td>\n",
       "      <td>6</td>\n",
       "      <td>Ethiopia Commodity Exchange</td>\n",
       "      <td>2009/2010</td>\n",
       "      <td>6.0</td>\n",
       "      <td>None</td>\n",
       "    </tr>\n",
       "    <tr>\n",
       "      <th>30</th>\n",
       "      <td>275</td>\n",
       "      <td>6</td>\n",
       "      <td>Specialty Coffee Association</td>\n",
       "      <td>NaN</td>\n",
       "      <td>6.0</td>\n",
       "      <td>None</td>\n",
       "    </tr>\n",
       "    <tr>\n",
       "      <th>38</th>\n",
       "      <td>300</td>\n",
       "      <td>6</td>\n",
       "      <td>Ethiopia Commodity Exchange</td>\n",
       "      <td>2009/2010</td>\n",
       "      <td>6.0</td>\n",
       "      <td>None</td>\n",
       "    </tr>\n",
       "    <tr>\n",
       "      <th>50</th>\n",
       "      <td>300</td>\n",
       "      <td>6</td>\n",
       "      <td>Ethiopia Commodity Exchange</td>\n",
       "      <td>2009/2010</td>\n",
       "      <td>6.0</td>\n",
       "      <td>None</td>\n",
       "    </tr>\n",
       "    <tr>\n",
       "      <th>51</th>\n",
       "      <td>1</td>\n",
       "      <td>2</td>\n",
       "      <td>Specialty Coffee Association</td>\n",
       "      <td>Fall 2009</td>\n",
       "      <td>2.0</td>\n",
       "      <td>None</td>\n",
       "    </tr>\n",
       "    <tr>\n",
       "      <th>74</th>\n",
       "      <td>2</td>\n",
       "      <td>1 kg,lbs</td>\n",
       "      <td>Specialty Coffee Association</td>\n",
       "      <td>2009 / 2010</td>\n",
       "      <td>1.0</td>\n",
       "      <td>kg,lbs</td>\n",
       "    </tr>\n",
       "    <tr>\n",
       "      <th>82</th>\n",
       "      <td>300</td>\n",
       "      <td>6</td>\n",
       "      <td>Ethiopia Commodity Exchange</td>\n",
       "      <td>2009/2010</td>\n",
       "      <td>6.0</td>\n",
       "      <td>None</td>\n",
       "    </tr>\n",
       "    <tr>\n",
       "      <th>94</th>\n",
       "      <td>360</td>\n",
       "      <td>6</td>\n",
       "      <td>Ethiopia Commodity Exchange</td>\n",
       "      <td>2010</td>\n",
       "      <td>6.0</td>\n",
       "      <td>None</td>\n",
       "    </tr>\n",
       "    <tr>\n",
       "      <th>118</th>\n",
       "      <td>300</td>\n",
       "      <td>6</td>\n",
       "      <td>Ethiopia Commodity Exchange</td>\n",
       "      <td>2009/2010</td>\n",
       "      <td>6.0</td>\n",
       "      <td>None</td>\n",
       "    </tr>\n",
       "    <tr>\n",
       "      <th>119</th>\n",
       "      <td>300</td>\n",
       "      <td>6</td>\n",
       "      <td>Ethiopia Commodity Exchange</td>\n",
       "      <td>2009/2010</td>\n",
       "      <td>6.0</td>\n",
       "      <td>None</td>\n",
       "    </tr>\n",
       "    <tr>\n",
       "      <th>124</th>\n",
       "      <td>2</td>\n",
       "      <td>6</td>\n",
       "      <td>Specialty Coffee Association</td>\n",
       "      <td>2009 - 2010</td>\n",
       "      <td>6.0</td>\n",
       "      <td>None</td>\n",
       "    </tr>\n",
       "    <tr>\n",
       "      <th>143</th>\n",
       "      <td>300</td>\n",
       "      <td>6</td>\n",
       "      <td>Ethiopia Commodity Exchange</td>\n",
       "      <td>2009/2010</td>\n",
       "      <td>6.0</td>\n",
       "      <td>None</td>\n",
       "    </tr>\n",
       "    <tr>\n",
       "      <th>190</th>\n",
       "      <td>250</td>\n",
       "      <td>1</td>\n",
       "      <td>Specialty Coffee Association</td>\n",
       "      <td>December 2009-March 2010</td>\n",
       "      <td>1.0</td>\n",
       "      <td>None</td>\n",
       "    </tr>\n",
       "    <tr>\n",
       "      <th>294</th>\n",
       "      <td>300</td>\n",
       "      <td>6</td>\n",
       "      <td>Ethiopia Commodity Exchange</td>\n",
       "      <td>2010</td>\n",
       "      <td>6.0</td>\n",
       "      <td>None</td>\n",
       "    </tr>\n",
       "    <tr>\n",
       "      <th>313</th>\n",
       "      <td>4</td>\n",
       "      <td>1</td>\n",
       "      <td>Specialty Coffee Association</td>\n",
       "      <td>NaN</td>\n",
       "      <td>1.0</td>\n",
       "      <td>None</td>\n",
       "    </tr>\n",
       "    <tr>\n",
       "      <th>395</th>\n",
       "      <td>6</td>\n",
       "      <td>6</td>\n",
       "      <td>Specialty Coffee Association</td>\n",
       "      <td>January Through April</td>\n",
       "      <td>6.0</td>\n",
       "      <td>None</td>\n",
       "    </tr>\n",
       "    <tr>\n",
       "      <th>477</th>\n",
       "      <td>300</td>\n",
       "      <td>6</td>\n",
       "      <td>Ethiopia Commodity Exchange</td>\n",
       "      <td>August to December</td>\n",
       "      <td>6.0</td>\n",
       "      <td>None</td>\n",
       "    </tr>\n",
       "    <tr>\n",
       "      <th>531</th>\n",
       "      <td>2</td>\n",
       "      <td>6</td>\n",
       "      <td>Specialty Coffee Association</td>\n",
       "      <td>2009-2010</td>\n",
       "      <td>6.0</td>\n",
       "      <td>None</td>\n",
       "    </tr>\n",
       "    <tr>\n",
       "      <th>606</th>\n",
       "      <td>14</td>\n",
       "      <td>1</td>\n",
       "      <td>Specialty Coffee Association</td>\n",
       "      <td>NaN</td>\n",
       "      <td>1.0</td>\n",
       "      <td>None</td>\n",
       "    </tr>\n",
       "    <tr>\n",
       "      <th>673</th>\n",
       "      <td>245</td>\n",
       "      <td>1</td>\n",
       "      <td>Specialty Coffee Association</td>\n",
       "      <td>NaN</td>\n",
       "      <td>1.0</td>\n",
       "      <td>None</td>\n",
       "    </tr>\n",
       "    <tr>\n",
       "      <th>933</th>\n",
       "      <td>16</td>\n",
       "      <td>1</td>\n",
       "      <td>Specialty Coffee Association</td>\n",
       "      <td>NaN</td>\n",
       "      <td>1.0</td>\n",
       "      <td>None</td>\n",
       "    </tr>\n",
       "    <tr>\n",
       "      <th>1093</th>\n",
       "      <td>360</td>\n",
       "      <td>6</td>\n",
       "      <td>Ethiopia Commodity Exchange</td>\n",
       "      <td>2010</td>\n",
       "      <td>6.0</td>\n",
       "      <td>None</td>\n",
       "    </tr>\n",
       "    <tr>\n",
       "      <th>1129</th>\n",
       "      <td>300</td>\n",
       "      <td>6</td>\n",
       "      <td>Ethiopia Commodity Exchange</td>\n",
       "      <td>2010</td>\n",
       "      <td>6.0</td>\n",
       "      <td>None</td>\n",
       "    </tr>\n",
       "    <tr>\n",
       "      <th>1191</th>\n",
       "      <td>250</td>\n",
       "      <td>6</td>\n",
       "      <td>Specialty Coffee Association</td>\n",
       "      <td>08/09 crop</td>\n",
       "      <td>6.0</td>\n",
       "      <td>None</td>\n",
       "    </tr>\n",
       "    <tr>\n",
       "      <th>1261</th>\n",
       "      <td>250</td>\n",
       "      <td>6</td>\n",
       "      <td>Specialty Coffee Association</td>\n",
       "      <td>08/09 crop</td>\n",
       "      <td>6.0</td>\n",
       "      <td>None</td>\n",
       "    </tr>\n",
       "  </tbody>\n",
       "</table>\n",
       "</div>"
      ],
      "text/plain": [
       "      number_of_bags bag_weight            in_country_partner  \\\n",
       "2                  5          1  Specialty Coffee Association   \n",
       "13                 1          1  Specialty Coffee Association   \n",
       "16                 1   2 kg,lbs  Specialty Coffee Association   \n",
       "17               150          6   Ethiopia Commodity Exchange   \n",
       "26               150          6   Ethiopia Commodity Exchange   \n",
       "30               275          6  Specialty Coffee Association   \n",
       "38               300          6   Ethiopia Commodity Exchange   \n",
       "50               300          6   Ethiopia Commodity Exchange   \n",
       "51                 1          2  Specialty Coffee Association   \n",
       "74                 2   1 kg,lbs  Specialty Coffee Association   \n",
       "82               300          6   Ethiopia Commodity Exchange   \n",
       "94               360          6   Ethiopia Commodity Exchange   \n",
       "118              300          6   Ethiopia Commodity Exchange   \n",
       "119              300          6   Ethiopia Commodity Exchange   \n",
       "124                2          6  Specialty Coffee Association   \n",
       "143              300          6   Ethiopia Commodity Exchange   \n",
       "190              250          1  Specialty Coffee Association   \n",
       "294              300          6   Ethiopia Commodity Exchange   \n",
       "313                4          1  Specialty Coffee Association   \n",
       "395                6          6  Specialty Coffee Association   \n",
       "477              300          6   Ethiopia Commodity Exchange   \n",
       "531                2          6  Specialty Coffee Association   \n",
       "606               14          1  Specialty Coffee Association   \n",
       "673              245          1  Specialty Coffee Association   \n",
       "933               16          1  Specialty Coffee Association   \n",
       "1093             360          6   Ethiopia Commodity Exchange   \n",
       "1129             300          6   Ethiopia Commodity Exchange   \n",
       "1191             250          6  Specialty Coffee Association   \n",
       "1261             250          6  Specialty Coffee Association   \n",
       "\n",
       "                  harvest_year  values_of_measurement_bag  \\\n",
       "2                          NaN                        1.0   \n",
       "13      Sept 2009 - April 2010                        1.0   \n",
       "16                  May-August                        2.0   \n",
       "17                   2009/2010                        6.0   \n",
       "26                   2009/2010                        6.0   \n",
       "30                         NaN                        6.0   \n",
       "38                   2009/2010                        6.0   \n",
       "50                   2009/2010                        6.0   \n",
       "51                   Fall 2009                        2.0   \n",
       "74                 2009 / 2010                        1.0   \n",
       "82                   2009/2010                        6.0   \n",
       "94                        2010                        6.0   \n",
       "118                  2009/2010                        6.0   \n",
       "119                  2009/2010                        6.0   \n",
       "124                2009 - 2010                        6.0   \n",
       "143                  2009/2010                        6.0   \n",
       "190   December 2009-March 2010                        1.0   \n",
       "294                       2010                        6.0   \n",
       "313                        NaN                        1.0   \n",
       "395      January Through April                        6.0   \n",
       "477         August to December                        6.0   \n",
       "531                  2009-2010                        6.0   \n",
       "606                        NaN                        1.0   \n",
       "673                        NaN                        1.0   \n",
       "933                        NaN                        1.0   \n",
       "1093                      2010                        6.0   \n",
       "1129                      2010                        6.0   \n",
       "1191                08/09 crop                        6.0   \n",
       "1261                08/09 crop                        6.0   \n",
       "\n",
       "     unit_of_measurement_bag  \n",
       "2                       None  \n",
       "13                      None  \n",
       "16                    kg,lbs  \n",
       "17                      None  \n",
       "26                      None  \n",
       "30                      None  \n",
       "38                      None  \n",
       "50                      None  \n",
       "51                      None  \n",
       "74                    kg,lbs  \n",
       "82                      None  \n",
       "94                      None  \n",
       "118                     None  \n",
       "119                     None  \n",
       "124                     None  \n",
       "143                     None  \n",
       "190                     None  \n",
       "294                     None  \n",
       "313                     None  \n",
       "395                     None  \n",
       "477                     None  \n",
       "531                     None  \n",
       "606                     None  \n",
       "673                     None  \n",
       "933                     None  \n",
       "1093                    None  \n",
       "1129                    None  \n",
       "1191                    None  \n",
       "1261                    None  "
      ]
     },
     "execution_count": 16,
     "metadata": {},
     "output_type": "execute_result"
    }
   ],
   "source": [
    "coffee_data[(coffee_data.unit_of_measurement_bag == 'kg,lbs') | coffee_data.unit_of_measurement_bag.isnull()][['number_of_bags', 'bag_weight', 'in_country_partner', 'harvest_year', 'values_of_measurement_bag', 'unit_of_measurement_bag']]"
   ]
  },
  {
   "cell_type": "markdown",
   "id": "239e43df-9aa8-4fd5-ba0d-15a1a498cb9f",
   "metadata": {},
   "source": [
    "In next cell we'll calculate total coffee weight as multiply column values_of_measurement_bag with column number_of_bags. Next we'll use groupby for calsum of each kinid unit_of_measurement_bag, including None value, and get cer cent on each type per all sum."
   ]
  },
  {
   "cell_type": "code",
   "execution_count": 17,
   "id": "2b1694b8-e285-4895-97a6-40a40a3e6467",
   "metadata": {},
   "outputs": [
    {
     "data": {
      "text/plain": [
       "unit_of_measurement_bag\n",
       "kg        99.703388\n",
       "kg,lbs     0.000007\n",
       "lbs        0.248937\n",
       "NaN        0.047668\n",
       "Name: all_coffee_weight, dtype: float64"
      ]
     },
     "execution_count": 17,
     "metadata": {},
     "output_type": "execute_result"
    }
   ],
   "source": [
    "filtered_data = coffee_data\n",
    "filtered_data.loc[:, 'all_coffee_weight'] = filtered_data.values_of_measurement_bag * filtered_data.number_of_bags\n",
    "groupby_unit_of_measurement_bag = filtered_data.groupby('unit_of_measurement_bag', dropna=False)['all_coffee_weight'].sum()\n",
    "(groupby_unit_of_measurement_bag/groupby_unit_of_measurement_bag.sum()) * 100"
   ]
  },
  {
   "cell_type": "markdown",
   "id": "ec1c1afe-b2d3-4660-8e77-86af78e7ffb8",
   "metadata": {},
   "source": [
    "How to see from the upper one code, per cent on NaN and kg are less then 0,05% from all sum. In this case for as much as don't understand what are unit measure for NaN and kg,lbs, we'll for kg. That can be wrong assumption, but the influence of that is too low and it is better then delete all rows with NaN or kg,lbs in column unit_of_measurement_bag.\n",
    "\n",
    "Next we'll transform every measurt in kg and column bag_weight will have wwight of bag in kg and type int. For tis purpose can lbs transform in kg as lbs multipy with 0.453592"
   ]
  },
  {
   "cell_type": "code",
   "execution_count": 18,
   "id": "b8bcb9d0-a9bc-486e-9b57-dd74b40ae677",
   "metadata": {},
   "outputs": [
    {
     "data": {
      "text/plain": [
       "Index(['species', 'owner', 'country_of_origin', 'farm_name', 'lot_number',\n",
       "       'mill', 'ico_number', 'company', 'altitude', 'region', 'producer',\n",
       "       'number_of_bags', 'bag_weight', 'in_country_partner', 'harvest_year',\n",
       "       'grading_date', 'owner_1', 'variety', 'processing_method', 'aroma',\n",
       "       'flavor', 'aftertaste', 'acidity', 'body', 'balance', 'uniformity',\n",
       "       'clean_cup', 'sweetness', 'cupper_points', 'total_cup_points',\n",
       "       'moisture', 'category_one_defects', 'quakers', 'color',\n",
       "       'category_two_defects', 'expiration', 'certification_body',\n",
       "       'certification_address', 'certification_contact', 'unit_of_measurement',\n",
       "       'altitude_low_meters', 'altitude_high_meters', 'altitude_mean_meters',\n",
       "       'values_of_measurement_bag', 'unit_of_measurement_bag',\n",
       "       'all_coffee_weight'],\n",
       "      dtype='object')"
      ]
     },
     "execution_count": 18,
     "metadata": {},
     "output_type": "execute_result"
    }
   ],
   "source": [
    "def transform_lbs_in_kg(row):\n",
    "    if row['unit_of_measurement_bag'] == 'lbs':\n",
    "        return row['values_of_measurement_bag'] * 0.453592\n",
    "    return row['values_of_measurement_bag']\n",
    "\n",
    "coffee_data['bag_weight'] = coffee_data.apply(transform_lbs_in_kg, axis=1)\n",
    "coffee_data.columns"
   ]
  },
  {
   "cell_type": "markdown",
   "id": "e8cf75b6-f614-4bea-aef7-663971c5925d",
   "metadata": {},
   "source": [
    "Now we'll delete last three columns in coffee_data which had created for doing with bag_weight and now they aren't usfull "
   ]
  },
  {
   "cell_type": "code",
   "execution_count": 19,
   "id": "df96b70c-603a-44ae-a0b2-d27d685c05a7",
   "metadata": {},
   "outputs": [],
   "source": [
    "coffee_data = coffee_data.iloc[:, : -3]"
   ]
  },
  {
   "cell_type": "markdown",
   "id": "2ff1f817-8e5e-4185-a320-dde7ed2cada1",
   "metadata": {},
   "source": [
    "### Problem 5. Dates (1 point)\n",
    "This should remind you of problem 4 but it's slightly nastier. Fix the harvest years, document the process.\n",
    "\n",
    "While you're here, fix the expiration dates, and grading dates. Unlike the other column, these should be dates (`pd.to_datetime()` is your friend)."
   ]
  },
  {
   "cell_type": "markdown",
   "id": "d24b06c4-ac6d-4798-b371-26e6122aa899",
   "metadata": {},
   "source": [
    "First, for columns 'garing_data' and 'expiration' we'll check with isna and value_counts for NaN values. Next with the metod to_datatime() we'll chenge the type of columns as for this purpose with next regex expretion ((\\d+)(st|nd|rd|th) will remove the suffixes on the dates.  "
   ]
  },
  {
   "cell_type": "code",
   "execution_count": 20,
   "id": "7bb8f151-4861-4c70-8593-03cf35fe7985",
   "metadata": {},
   "outputs": [
    {
     "data": {
      "text/plain": [
       "(grading_date\n",
       " False    1339\n",
       " Name: count, dtype: int64,\n",
       " expiration\n",
       " False    1339\n",
       " Name: count, dtype: int64)"
      ]
     },
     "execution_count": 20,
     "metadata": {},
     "output_type": "execute_result"
    }
   ],
   "source": [
    "coffee_data.grading_date.isna().value_counts(), coffee_data.expiration.isna().value_counts()"
   ]
  },
  {
   "cell_type": "code",
   "execution_count": 21,
   "id": "9efc626d-e9cd-41a7-ab89-c9a3a7a7b3ed",
   "metadata": {},
   "outputs": [],
   "source": [
    "coffee_data.grading_date = pd.to_datetime(coffee_data.grading_date.str.strip().str.replace(r'(\\d+)(st|nd|rd|th)', r'\\1', regex=True))"
   ]
  },
  {
   "cell_type": "code",
   "execution_count": 22,
   "id": "6708192f-ae27-4a4b-8858-6ac447032bb0",
   "metadata": {},
   "outputs": [],
   "source": [
    "coffee_data.expiration = pd.to_datetime(coffee_data.expiration.str.strip().str.replace(r'(\\d+)(st|nd|rd|th)', r'\\1', regex=True))"
   ]
  },
  {
   "cell_type": "markdown",
   "id": "3ad787e3-50c1-4169-a41f-33aaeaee26d7",
   "metadata": {},
   "source": [
    "After changed 'garing_data' and 'expiration' next chack in 'harvest_data' how many None cell there are.\n",
    "After that chacked 'harvest_date' how many cells there are which don't detain for digits as year without None value."
   ]
  },
  {
   "cell_type": "code",
   "execution_count": 23,
   "id": "f63687d8-8e39-4efb-a086-43b01ae892f0",
   "metadata": {},
   "outputs": [
    {
     "data": {
      "text/plain": [
       "harvest_year\n",
       "False    1292\n",
       "True       47\n",
       "Name: count, dtype: int64"
      ]
     },
     "execution_count": 23,
     "metadata": {},
     "output_type": "execute_result"
    }
   ],
   "source": [
    "coffee_data.harvest_year.isna().value_counts()"
   ]
  },
  {
   "cell_type": "code",
   "execution_count": 24,
   "id": "814dc5f9-9572-44f0-bff6-8efeb084f93d",
   "metadata": {},
   "outputs": [
    {
     "name": "stderr",
     "output_type": "stream",
     "text": [
      "C:\\Users\\Nikolay\\AppData\\Local\\Temp\\ipykernel_15132\\3952127158.py:1: UserWarning: Boolean Series key will be reindexed to match DataFrame index.\n",
      "  coffee_data[['harvest_year', 'grading_date', 'expiration']].dropna()[~coffee_data.harvest_year.str.contains(r'\\d{4}', na=False, regex=True)]\n"
     ]
    },
    {
     "data": {
      "text/html": [
       "<div>\n",
       "<style scoped>\n",
       "    .dataframe tbody tr th:only-of-type {\n",
       "        vertical-align: middle;\n",
       "    }\n",
       "\n",
       "    .dataframe tbody tr th {\n",
       "        vertical-align: top;\n",
       "    }\n",
       "\n",
       "    .dataframe thead th {\n",
       "        text-align: right;\n",
       "    }\n",
       "</style>\n",
       "<table border=\"1\" class=\"dataframe\">\n",
       "  <thead>\n",
       "    <tr style=\"text-align: right;\">\n",
       "      <th></th>\n",
       "      <th>harvest_year</th>\n",
       "      <th>grading_date</th>\n",
       "      <th>expiration</th>\n",
       "    </tr>\n",
       "  </thead>\n",
       "  <tbody>\n",
       "    <tr>\n",
       "      <th>16</th>\n",
       "      <td>May-August</td>\n",
       "      <td>2010-05-31</td>\n",
       "      <td>2011-05-31</td>\n",
       "    </tr>\n",
       "    <tr>\n",
       "      <th>169</th>\n",
       "      <td>mmm</td>\n",
       "      <td>2011-03-23</td>\n",
       "      <td>2012-03-22</td>\n",
       "    </tr>\n",
       "    <tr>\n",
       "      <th>170</th>\n",
       "      <td>TEST</td>\n",
       "      <td>2011-03-22</td>\n",
       "      <td>2012-03-21</td>\n",
       "    </tr>\n",
       "    <tr>\n",
       "      <th>312</th>\n",
       "      <td>4T/10</td>\n",
       "      <td>2011-02-09</td>\n",
       "      <td>2012-02-09</td>\n",
       "    </tr>\n",
       "    <tr>\n",
       "      <th>395</th>\n",
       "      <td>January Through April</td>\n",
       "      <td>2010-05-26</td>\n",
       "      <td>2011-05-26</td>\n",
       "    </tr>\n",
       "    <tr>\n",
       "      <th>477</th>\n",
       "      <td>August to December</td>\n",
       "      <td>2010-06-16</td>\n",
       "      <td>2011-06-16</td>\n",
       "    </tr>\n",
       "    <tr>\n",
       "      <th>492</th>\n",
       "      <td>Mayo a Julio</td>\n",
       "      <td>2011-07-29</td>\n",
       "      <td>2012-07-28</td>\n",
       "    </tr>\n",
       "    <tr>\n",
       "      <th>527</th>\n",
       "      <td>Abril - Julio</td>\n",
       "      <td>2011-05-12</td>\n",
       "      <td>2012-05-11</td>\n",
       "    </tr>\n",
       "    <tr>\n",
       "      <th>631</th>\n",
       "      <td>4T/10</td>\n",
       "      <td>2011-02-09</td>\n",
       "      <td>2012-02-09</td>\n",
       "    </tr>\n",
       "    <tr>\n",
       "      <th>776</th>\n",
       "      <td>4T/10</td>\n",
       "      <td>2011-02-09</td>\n",
       "      <td>2012-02-09</td>\n",
       "    </tr>\n",
       "    <tr>\n",
       "      <th>814</th>\n",
       "      <td>Mayo a Julio</td>\n",
       "      <td>2011-07-29</td>\n",
       "      <td>2012-07-28</td>\n",
       "    </tr>\n",
       "    <tr>\n",
       "      <th>869</th>\n",
       "      <td>Mayo a Julio</td>\n",
       "      <td>2011-10-04</td>\n",
       "      <td>2012-10-03</td>\n",
       "    </tr>\n",
       "    <tr>\n",
       "      <th>932</th>\n",
       "      <td>Abril - Julio</td>\n",
       "      <td>2011-09-07</td>\n",
       "      <td>2012-09-06</td>\n",
       "    </tr>\n",
       "    <tr>\n",
       "      <th>1167</th>\n",
       "      <td>4T/10</td>\n",
       "      <td>2011-02-09</td>\n",
       "      <td>2012-02-09</td>\n",
       "    </tr>\n",
       "    <tr>\n",
       "      <th>1191</th>\n",
       "      <td>08/09 crop</td>\n",
       "      <td>2010-04-09</td>\n",
       "      <td>2011-04-09</td>\n",
       "    </tr>\n",
       "    <tr>\n",
       "      <th>1261</th>\n",
       "      <td>08/09 crop</td>\n",
       "      <td>2010-04-09</td>\n",
       "      <td>2011-04-09</td>\n",
       "    </tr>\n",
       "  </tbody>\n",
       "</table>\n",
       "</div>"
      ],
      "text/plain": [
       "               harvest_year grading_date expiration\n",
       "16               May-August   2010-05-31 2011-05-31\n",
       "169                     mmm   2011-03-23 2012-03-22\n",
       "170                    TEST   2011-03-22 2012-03-21\n",
       "312                   4T/10   2011-02-09 2012-02-09\n",
       "395   January Through April   2010-05-26 2011-05-26\n",
       "477      August to December   2010-06-16 2011-06-16\n",
       "492            Mayo a Julio   2011-07-29 2012-07-28\n",
       "527           Abril - Julio   2011-05-12 2012-05-11\n",
       "631                   4T/10   2011-02-09 2012-02-09\n",
       "776                   4T/10   2011-02-09 2012-02-09\n",
       "814            Mayo a Julio   2011-07-29 2012-07-28\n",
       "869            Mayo a Julio   2011-10-04 2012-10-03\n",
       "932           Abril - Julio   2011-09-07 2012-09-06\n",
       "1167                  4T/10   2011-02-09 2012-02-09\n",
       "1191             08/09 crop   2010-04-09 2011-04-09\n",
       "1261             08/09 crop   2010-04-09 2011-04-09"
      ]
     },
     "execution_count": 24,
     "metadata": {},
     "output_type": "execute_result"
    }
   ],
   "source": [
    "coffee_data[['harvest_year', 'grading_date', 'expiration']].dropna()[~coffee_data.harvest_year.str.contains(r'\\d{4}', na=False, regex=True)]"
   ]
  },
  {
   "cell_type": "markdown",
   "id": "d63806e7-5826-49f2-8625-e7de4ed1aa95",
   "metadata": {},
   "source": [
    "How to seen above, 'harvest_date' detain 47 None value and 16 without four digits as year.\n",
    "In next sells woll be created two Data Frame with columns 'harvest_year', 'grading_date', 'expiration', as in column 'harviest_data will be got only four digits as year. Where have more than one sequence in first Data Fram got last sequence and in second get first sequence. \n",
    "Then will be substract the 'harvest_data' value from 'grading_date' and 'expiration' in bouth Data Frame and will be counted how many diffrent substracr have and for each substract how many counts. Thish is made with purpose to understood had an addiction between 'harvest_date' and 'grading_date', 'expiration' and in case that had to be fill None values in 'haverst_date."
   ]
  },
  {
   "cell_type": "code",
   "execution_count": 25,
   "id": "9411347c-10ce-4140-875b-04a575e91cee",
   "metadata": {},
   "outputs": [
    {
     "data": {
      "text/plain": [
       "harvest_year           float64\n",
       "grading_date    datetime64[ns]\n",
       "expiration      datetime64[ns]\n",
       "dtype: object"
      ]
     },
     "execution_count": 25,
     "metadata": {},
     "output_type": "execute_result"
    }
   ],
   "source": [
    "farvest_gradiing_expiration_date = coffee_data[['harvest_year', 'grading_date', 'expiration']].dropna(subset=['harvest_year'])\n",
    "farvest_gradiing_expiration_date.harvest_year = farvest_gradiing_expiration_date.harvest_year.str.findall(r'\\d{4}').apply(lambda x: x[-1] if isinstance(x, list) and x else None).dropna().astype(int)\n",
    "farvest_gradiing_expiration_date.dtypes"
   ]
  },
  {
   "cell_type": "code",
   "execution_count": 26,
   "id": "18e77d89-91ed-4fce-828d-a879fed473a3",
   "metadata": {},
   "outputs": [
    {
     "data": {
      "text/plain": [
       "( 0.0       858\n",
       "  1.0       310\n",
       " -1.0        99\n",
       "  2.0         8\n",
       " -5190.0      1\n",
       " Name: count, dtype: int64,\n",
       "  1.0       858\n",
       "  2.0       310\n",
       "  0.0        99\n",
       "  3.0         8\n",
       " -5189.0      1\n",
       " Name: count, dtype: int64)"
      ]
     },
     "execution_count": 26,
     "metadata": {},
     "output_type": "execute_result"
    }
   ],
   "source": [
    "(farvest_gradiing_expiration_date.grading_date.dt.year - farvest_gradiing_expiration_date.harvest_year).value_counts(), (farvest_gradiing_expiration_date.expiration.dt.year - farvest_gradiing_expiration_date.harvest_year).value_counts()"
   ]
  },
  {
   "cell_type": "code",
   "execution_count": 27,
   "id": "4e2bc1e6-98b9-4039-a59e-266f1eb3c805",
   "metadata": {},
   "outputs": [
    {
     "data": {
      "text/plain": [
       "harvest_year           float64\n",
       "grading_date    datetime64[ns]\n",
       "expiration      datetime64[ns]\n",
       "dtype: object"
      ]
     },
     "execution_count": 27,
     "metadata": {},
     "output_type": "execute_result"
    }
   ],
   "source": [
    "farvest_gradiing_expiration_date_get_firs_year = coffee_data[['harvest_year', 'grading_date', 'expiration']].dropna(subset=['harvest_year'])\n",
    "farvest_gradiing_expiration_date_get_firs_year.harvest_year = farvest_gradiing_expiration_date_get_firs_year.harvest_year.str.findall(r'\\d{4}').apply(lambda x: x[0] if isinstance(x, list) and x else None).dropna().astype(int,)\n",
    "farvest_gradiing_expiration_date_get_firs_year.dtypes"
   ]
  },
  {
   "cell_type": "code",
   "execution_count": 28,
   "id": "5611cf79-fb23-44bc-bd96-80983fa52c35",
   "metadata": {},
   "outputs": [
    {
     "data": {
      "text/plain": [
       "( 0.0       924\n",
       "  1.0       340\n",
       "  2.0         9\n",
       " -1.0         2\n",
       " -5190.0      1\n",
       " Name: count, dtype: int64,\n",
       "  1.0       924\n",
       "  2.0       340\n",
       "  3.0         9\n",
       "  0.0         2\n",
       " -5189.0      1\n",
       " Name: count, dtype: int64)"
      ]
     },
     "execution_count": 28,
     "metadata": {},
     "output_type": "execute_result"
    }
   ],
   "source": [
    "(farvest_gradiing_expiration_date_get_firs_year.grading_date.dt.year - farvest_gradiing_expiration_date_get_firs_year.harvest_year).value_counts(), (farvest_gradiing_expiration_date_get_firs_year.expiration.dt.year - farvest_gradiing_expiration_date_get_firs_year.harvest_year).value_counts()"
   ]
  },
  {
   "cell_type": "code",
   "execution_count": 29,
   "id": "8a9c1955-86a1-4530-8f95-f90e7ef9b8b6",
   "metadata": {},
   "outputs": [
    {
     "data": {
      "text/html": [
       "<div>\n",
       "<style scoped>\n",
       "    .dataframe tbody tr th:only-of-type {\n",
       "        vertical-align: middle;\n",
       "    }\n",
       "\n",
       "    .dataframe tbody tr th {\n",
       "        vertical-align: top;\n",
       "    }\n",
       "\n",
       "    .dataframe thead th {\n",
       "        text-align: right;\n",
       "    }\n",
       "</style>\n",
       "<table border=\"1\" class=\"dataframe\">\n",
       "  <thead>\n",
       "    <tr style=\"text-align: right;\">\n",
       "      <th></th>\n",
       "      <th>harvest_year</th>\n",
       "      <th>grading_date</th>\n",
       "      <th>expiration</th>\n",
       "    </tr>\n",
       "  </thead>\n",
       "  <tbody>\n",
       "    <tr>\n",
       "      <th>948</th>\n",
       "      <td>7201.0</td>\n",
       "      <td>2011-02-22</td>\n",
       "      <td>2012-02-22</td>\n",
       "    </tr>\n",
       "  </tbody>\n",
       "</table>\n",
       "</div>"
      ],
      "text/plain": [
       "     harvest_year grading_date expiration\n",
       "948        7201.0   2011-02-22 2012-02-22"
      ]
     },
     "execution_count": 29,
     "metadata": {},
     "output_type": "execute_result"
    }
   ],
   "source": [
    "farvest_gradiing_expiration_date[(farvest_gradiing_expiration_date.grading_date.dt.year - farvest_gradiing_expiration_date.harvest_year) == -5190]"
   ]
  },
  {
   "cell_type": "markdown",
   "id": "f3f1f8aa-fc09-4458-8a14-03bbcc4733cf",
   "metadata": {},
   "source": [
    "As can be seen if get last year for havest date have 99 rows where grading_date will be with one year before, wich didn't very logical. On other hend with first years, have only two cases when grading date is before. For that for will be chosen the first year for havest date. And in most cases the year of 'harvest_year' and 'grading_date' are same, None values in harvest_date will be filled with the year of grading_date.\n",
    "Also have owe year in harvest_date with value 7201, this is nosense and this value will be changed as grading_date."
   ]
  },
  {
   "cell_type": "code",
   "execution_count": 30,
   "id": "cb270e3d-dd25-45d2-81a4-7302b6cfe88e",
   "metadata": {},
   "outputs": [],
   "source": [
    "coffee_data.loc[coffee_data.harvest_year.str.contains(r'7201', na=False), 'harvest_year'] = np.nan"
   ]
  },
  {
   "cell_type": "code",
   "execution_count": 39,
   "id": "365c5c3c-a31a-4b5f-a17d-8d701466c1ee",
   "metadata": {},
   "outputs": [],
   "source": [
    "coffee_data.harvest_year = coffee_data.harvest_year.str.findall(r'\\d{4}').apply(lambda x: x[0] if isinstance(x, list) and x else None)\n",
    "coffee_data.harvest_year = coffee_data.apply(lambda row: row.grading_date.year if pd.isna(row.harvest_year) else row.harvest_year, axis=1).astype(int)"
   ]
  },
  {
   "cell_type": "code",
   "execution_count": 40,
   "id": "2b0f4c6d-eac1-4997-a6d4-5dd92b948d97",
   "metadata": {},
   "outputs": [
    {
     "data": {
      "text/plain": [
       "harvest_year\n",
       "2012    354\n",
       "2014    252\n",
       "2013    210\n",
       "2015    157\n",
       "2016    135\n",
       "2017     91\n",
       "2011     70\n",
       "2010     45\n",
       "2009     20\n",
       "2018      5\n",
       "Name: count, dtype: int64"
      ]
     },
     "execution_count": 40,
     "metadata": {},
     "output_type": "execute_result"
    }
   ],
   "source": [
    "coffee_data.harvest_year.value_counts()"
   ]
  },
  {
   "cell_type": "markdown",
   "id": "0dff33b4-c94d-43b3-bab3-97eabb862a37",
   "metadata": {},
   "source": [
    "### Problem 6. Countries (1 point)\n",
    "How many coffees are there with unknown countries of origin? What can you do about them?"
   ]
  },
  {
   "cell_type": "markdown",
   "id": "6ae7320b-ec79-4c5c-855c-665ce630dd80",
   "metadata": {},
   "source": [
    "With value_counts checked each country and how many counts there are it. And next cell shows one value with None. There are three diffrent written for three parts of the USA - 'United States (Hawaii)', 'United States (Puerto Rico)' and 'United States'. For as much as each record for the USA stared with United States, for now don't change this records.\n",
    "As regards None value - will be chech in the other columns whether have got information which can use for 'country_of_origin'"
   ]
  },
  {
   "cell_type": "code",
   "execution_count": 43,
   "id": "0851c1a8-0420-4dba-ac27-487bae4318be",
   "metadata": {},
   "outputs": [
    {
     "data": {
      "text/plain": [
       "country_of_origin\n",
       "Mexico                          236\n",
       "Colombia                        183\n",
       "Guatemala                       181\n",
       "Brazil                          132\n",
       "Taiwan                           75\n",
       "United States (Hawaii)           73\n",
       "Honduras                         53\n",
       "Costa Rica                       51\n",
       "Ethiopia                         44\n",
       "Tanzania, United Republic Of     40\n",
       "Uganda                           36\n",
       "Thailand                         32\n",
       "Nicaragua                        26\n",
       "Kenya                            25\n",
       "El Salvador                      21\n",
       "Indonesia                        20\n",
       "China                            16\n",
       "India                            14\n",
       "Malawi                           11\n",
       "United States                    10\n",
       "Peru                             10\n",
       "Myanmar                           8\n",
       "Vietnam                           8\n",
       "Haiti                             6\n",
       "Philippines                       5\n",
       "United States (Puerto Rico)       4\n",
       "Panama                            4\n",
       "Ecuador                           3\n",
       "Laos                              3\n",
       "Burundi                           2\n",
       "Papua New Guinea                  1\n",
       "Rwanda                            1\n",
       "Zambia                            1\n",
       "Japan                             1\n",
       "Mauritius                         1\n",
       "Cote d?Ivoire                     1\n",
       "NaN                               1\n",
       "Name: count, dtype: int64"
      ]
     },
     "execution_count": 43,
     "metadata": {},
     "output_type": "execute_result"
    }
   ],
   "source": [
    "coffee_data.country_of_origin.value_counts(dropna=False)"
   ]
  },
  {
   "cell_type": "code",
   "execution_count": 50,
   "id": "20825506-93bc-4f9b-9313-f175861bad10",
   "metadata": {},
   "outputs": [
    {
     "data": {
      "text/html": [
       "<div>\n",
       "<style scoped>\n",
       "    .dataframe tbody tr th:only-of-type {\n",
       "        vertical-align: middle;\n",
       "    }\n",
       "\n",
       "    .dataframe tbody tr th {\n",
       "        vertical-align: top;\n",
       "    }\n",
       "\n",
       "    .dataframe thead th {\n",
       "        text-align: right;\n",
       "    }\n",
       "</style>\n",
       "<table border=\"1\" class=\"dataframe\">\n",
       "  <thead>\n",
       "    <tr style=\"text-align: right;\">\n",
       "      <th></th>\n",
       "      <th>ico_number</th>\n",
       "      <th>owner</th>\n",
       "      <th>owner_1</th>\n",
       "      <th>country_of_origin</th>\n",
       "      <th>farm_name</th>\n",
       "      <th>company</th>\n",
       "      <th>region</th>\n",
       "      <th>producer</th>\n",
       "      <th>producer</th>\n",
       "      <th>in_country_partner</th>\n",
       "      <th>number_of_bags</th>\n",
       "      <th>bag_weight</th>\n",
       "    </tr>\n",
       "  </thead>\n",
       "  <tbody>\n",
       "    <tr>\n",
       "      <th>1338</th>\n",
       "      <td>NaN</td>\n",
       "      <td>cafe politico</td>\n",
       "      <td>Cafe Politico</td>\n",
       "      <td>Vietnam</td>\n",
       "      <td>NaN</td>\n",
       "      <td>cafe politico</td>\n",
       "      <td>NaN</td>\n",
       "      <td>NaN</td>\n",
       "      <td>NaN</td>\n",
       "      <td>Specialty Coffee Association</td>\n",
       "      <td>1</td>\n",
       "      <td>2.26796</td>\n",
       "    </tr>\n",
       "    <tr>\n",
       "      <th>860</th>\n",
       "      <td>NaN</td>\n",
       "      <td>sunvirtue co., ltd.</td>\n",
       "      <td>Sunvirtue Co., Ltd.</td>\n",
       "      <td>Vietnam</td>\n",
       "      <td>apollo estate</td>\n",
       "      <td>sunvirtue co., ltd.</td>\n",
       "      <td>vietnam</td>\n",
       "      <td>Richard Yeh</td>\n",
       "      <td>Richard Yeh</td>\n",
       "      <td>Specialty Coffee Association</td>\n",
       "      <td>1</td>\n",
       "      <td>2.00000</td>\n",
       "    </tr>\n",
       "    <tr>\n",
       "      <th>502</th>\n",
       "      <td>NaN</td>\n",
       "      <td>sunvirtue co., ltd.</td>\n",
       "      <td>Sunvirtue Co., Ltd.</td>\n",
       "      <td>Vietnam</td>\n",
       "      <td>apollo estate</td>\n",
       "      <td>sunvirtue co., ltd.</td>\n",
       "      <td>vietnam cau dat</td>\n",
       "      <td>Yeh, Li Chuan.</td>\n",
       "      <td>Yeh, Li Chuan.</td>\n",
       "      <td>Specialty Coffee Association</td>\n",
       "      <td>2</td>\n",
       "      <td>2.00000</td>\n",
       "    </tr>\n",
       "    <tr>\n",
       "      <th>1105</th>\n",
       "      <td>NaN</td>\n",
       "      <td>sunvirtue co., ltd.</td>\n",
       "      <td>Sunvirtue Co., Ltd.</td>\n",
       "      <td>Vietnam</td>\n",
       "      <td>apollo estate</td>\n",
       "      <td>sunvirtue co., ltd.</td>\n",
       "      <td>dala</td>\n",
       "      <td>Yeh, Li Chuan</td>\n",
       "      <td>Yeh, Li Chuan</td>\n",
       "      <td>Specialty Coffee Association</td>\n",
       "      <td>1</td>\n",
       "      <td>2.00000</td>\n",
       "    </tr>\n",
       "    <tr>\n",
       "      <th>790</th>\n",
       "      <td>NaN</td>\n",
       "      <td>royal base corporation</td>\n",
       "      <td>Royal Base Corporation</td>\n",
       "      <td>Vietnam</td>\n",
       "      <td>apollo co., ltd.</td>\n",
       "      <td>royal base corporation</td>\n",
       "      <td>don duong</td>\n",
       "      <td>Apollo Co., LTd.</td>\n",
       "      <td>Apollo Co., LTd.</td>\n",
       "      <td>Specialty Coffee Association</td>\n",
       "      <td>1</td>\n",
       "      <td>2.00000</td>\n",
       "    </tr>\n",
       "    <tr>\n",
       "      <th>554</th>\n",
       "      <td>NaN</td>\n",
       "      <td>royal base corporation</td>\n",
       "      <td>Royal Base Corporation</td>\n",
       "      <td>Vietnam</td>\n",
       "      <td>apollo co., ltd.</td>\n",
       "      <td>royal base corporation</td>\n",
       "      <td>don duong</td>\n",
       "      <td>Apollo Co., Ltd.</td>\n",
       "      <td>Apollo Co., Ltd.</td>\n",
       "      <td>Specialty Coffee Association</td>\n",
       "      <td>1</td>\n",
       "      <td>2.00000</td>\n",
       "    </tr>\n",
       "    <tr>\n",
       "      <th>564</th>\n",
       "      <td>NaN</td>\n",
       "      <td>sunvirtue co., ltd.</td>\n",
       "      <td>Sunvirtue Co., Ltd.</td>\n",
       "      <td>Vietnam</td>\n",
       "      <td>apollo estate</td>\n",
       "      <td>sunvirtue co., ltd.</td>\n",
       "      <td>vietnam tutra</td>\n",
       "      <td>Yeh, Li Chuan</td>\n",
       "      <td>Yeh, Li Chuan</td>\n",
       "      <td>Specialty Coffee Association</td>\n",
       "      <td>3</td>\n",
       "      <td>2.00000</td>\n",
       "    </tr>\n",
       "    <tr>\n",
       "      <th>444</th>\n",
       "      <td>NaN</td>\n",
       "      <td>sunvirtue co., ltd.</td>\n",
       "      <td>Sunvirtue Co., Ltd.</td>\n",
       "      <td>Vietnam</td>\n",
       "      <td>apollo estate</td>\n",
       "      <td>sunvirtue co., ltd.</td>\n",
       "      <td>dala</td>\n",
       "      <td>Yeh, Li Chuan</td>\n",
       "      <td>Yeh, Li Chuan</td>\n",
       "      <td>Specialty Coffee Association</td>\n",
       "      <td>1</td>\n",
       "      <td>2.00000</td>\n",
       "    </tr>\n",
       "    <tr>\n",
       "      <th>823</th>\n",
       "      <td>-</td>\n",
       "      <td>lusso lab</td>\n",
       "      <td>LUSSO LAB</td>\n",
       "      <td>Zambia</td>\n",
       "      <td>mubuyu munali</td>\n",
       "      <td>lusso coffee lab</td>\n",
       "      <td>mubuyu estate</td>\n",
       "      <td>NaN</td>\n",
       "      <td>NaN</td>\n",
       "      <td>Specialty Coffee Association</td>\n",
       "      <td>13</td>\n",
       "      <td>2.00000</td>\n",
       "    </tr>\n",
       "    <tr>\n",
       "      <th>1197</th>\n",
       "      <td>3-37-1980</td>\n",
       "      <td>racafe &amp; cia s.c.a</td>\n",
       "      <td>Racafe &amp; Cia S.C.A</td>\n",
       "      <td>NaN</td>\n",
       "      <td>NaN</td>\n",
       "      <td>NaN</td>\n",
       "      <td>NaN</td>\n",
       "      <td>NaN</td>\n",
       "      <td>NaN</td>\n",
       "      <td>Almacafé</td>\n",
       "      <td>149</td>\n",
       "      <td>70.00000</td>\n",
       "    </tr>\n",
       "  </tbody>\n",
       "</table>\n",
       "</div>"
      ],
      "text/plain": [
       "     ico_number                   owner                 owner_1  \\\n",
       "1338        NaN           cafe politico           Cafe Politico   \n",
       "860         NaN     sunvirtue co., ltd.     Sunvirtue Co., Ltd.   \n",
       "502         NaN     sunvirtue co., ltd.     Sunvirtue Co., Ltd.   \n",
       "1105        NaN     sunvirtue co., ltd.     Sunvirtue Co., Ltd.   \n",
       "790         NaN  royal base corporation  Royal Base Corporation   \n",
       "554         NaN  royal base corporation  Royal Base Corporation   \n",
       "564         NaN     sunvirtue co., ltd.     Sunvirtue Co., Ltd.   \n",
       "444         NaN     sunvirtue co., ltd.     Sunvirtue Co., Ltd.   \n",
       "823           -               lusso lab               LUSSO LAB   \n",
       "1197  3-37-1980      racafe & cia s.c.a      Racafe & Cia S.C.A   \n",
       "\n",
       "     country_of_origin         farm_name                 company  \\\n",
       "1338           Vietnam               NaN           cafe politico   \n",
       "860            Vietnam     apollo estate     sunvirtue co., ltd.   \n",
       "502            Vietnam     apollo estate     sunvirtue co., ltd.   \n",
       "1105           Vietnam     apollo estate     sunvirtue co., ltd.   \n",
       "790            Vietnam  apollo co., ltd.  royal base corporation   \n",
       "554            Vietnam  apollo co., ltd.  royal base corporation   \n",
       "564            Vietnam     apollo estate     sunvirtue co., ltd.   \n",
       "444            Vietnam     apollo estate     sunvirtue co., ltd.   \n",
       "823             Zambia     mubuyu munali        lusso coffee lab   \n",
       "1197               NaN               NaN                     NaN   \n",
       "\n",
       "               region          producer          producer  \\\n",
       "1338              NaN               NaN               NaN   \n",
       "860           vietnam       Richard Yeh       Richard Yeh   \n",
       "502   vietnam cau dat    Yeh, Li Chuan.    Yeh, Li Chuan.   \n",
       "1105             dala     Yeh, Li Chuan     Yeh, Li Chuan   \n",
       "790         don duong  Apollo Co., LTd.  Apollo Co., LTd.   \n",
       "554         don duong  Apollo Co., Ltd.  Apollo Co., Ltd.   \n",
       "564     vietnam tutra     Yeh, Li Chuan     Yeh, Li Chuan   \n",
       "444              dala     Yeh, Li Chuan     Yeh, Li Chuan   \n",
       "823     mubuyu estate               NaN               NaN   \n",
       "1197              NaN               NaN               NaN   \n",
       "\n",
       "                in_country_partner  number_of_bags  bag_weight  \n",
       "1338  Specialty Coffee Association               1     2.26796  \n",
       "860   Specialty Coffee Association               1     2.00000  \n",
       "502   Specialty Coffee Association               2     2.00000  \n",
       "1105  Specialty Coffee Association               1     2.00000  \n",
       "790   Specialty Coffee Association               1     2.00000  \n",
       "554   Specialty Coffee Association               1     2.00000  \n",
       "564   Specialty Coffee Association               3     2.00000  \n",
       "444   Specialty Coffee Association               1     2.00000  \n",
       "823   Specialty Coffee Association              13     2.00000  \n",
       "1197                      Almacafé             149    70.00000  "
      ]
     },
     "execution_count": 50,
     "metadata": {},
     "output_type": "execute_result"
    }
   ],
   "source": [
    "coffee_data[['ico_number', 'owner', 'owner_1', 'country_of_origin', 'farm_name', 'company', 'region', 'producer', 'producer', 'in_country_partner', 'number_of_bags', 'bag_weight']].sort_values(by='country_of_origin', na_position='last').tail(10)"
   ]
  },
  {
   "cell_type": "code",
   "execution_count": 52,
   "id": "68a3000b-d1a8-4eda-9123-1f8cbfcd45dd",
   "metadata": {},
   "outputs": [
    {
     "data": {
      "text/html": [
       "<div>\n",
       "<style scoped>\n",
       "    .dataframe tbody tr th:only-of-type {\n",
       "        vertical-align: middle;\n",
       "    }\n",
       "\n",
       "    .dataframe tbody tr th {\n",
       "        vertical-align: top;\n",
       "    }\n",
       "\n",
       "    .dataframe thead th {\n",
       "        text-align: right;\n",
       "    }\n",
       "</style>\n",
       "<table border=\"1\" class=\"dataframe\">\n",
       "  <thead>\n",
       "    <tr style=\"text-align: right;\">\n",
       "      <th></th>\n",
       "      <th>species</th>\n",
       "      <th>owner</th>\n",
       "      <th>country_of_origin</th>\n",
       "      <th>farm_name</th>\n",
       "      <th>lot_number</th>\n",
       "      <th>mill</th>\n",
       "      <th>ico_number</th>\n",
       "      <th>company</th>\n",
       "      <th>altitude</th>\n",
       "      <th>region</th>\n",
       "      <th>...</th>\n",
       "      <th>color</th>\n",
       "      <th>category_two_defects</th>\n",
       "      <th>expiration</th>\n",
       "      <th>certification_body</th>\n",
       "      <th>certification_address</th>\n",
       "      <th>certification_contact</th>\n",
       "      <th>unit_of_measurement</th>\n",
       "      <th>altitude_low_meters</th>\n",
       "      <th>altitude_high_meters</th>\n",
       "      <th>altitude_mean_meters</th>\n",
       "    </tr>\n",
       "  </thead>\n",
       "  <tbody>\n",
       "    <tr>\n",
       "      <th>97</th>\n",
       "      <td>Arabica</td>\n",
       "      <td>racafe &amp; cia s.c.a</td>\n",
       "      <td>Colombia</td>\n",
       "      <td>NaN</td>\n",
       "      <td>3-37-1829</td>\n",
       "      <td>bachue</td>\n",
       "      <td>3-37-1829</td>\n",
       "      <td>racafe &amp; cia s.c.a</td>\n",
       "      <td>NaN</td>\n",
       "      <td>huila</td>\n",
       "      <td>...</td>\n",
       "      <td>Green</td>\n",
       "      <td>3</td>\n",
       "      <td>2018-02-15</td>\n",
       "      <td>Almacafé</td>\n",
       "      <td>e493c36c2d076bf273064f7ac23ad562af257a25</td>\n",
       "      <td>70d3c0c26f89e00fdae6fb39ff54f0d2eb1c38ab</td>\n",
       "      <td>m</td>\n",
       "      <td>NaN</td>\n",
       "      <td>NaN</td>\n",
       "      <td>NaN</td>\n",
       "    </tr>\n",
       "    <tr>\n",
       "      <th>106</th>\n",
       "      <td>Arabica</td>\n",
       "      <td>racafe &amp; cia s.c.a</td>\n",
       "      <td>Colombia</td>\n",
       "      <td>NaN</td>\n",
       "      <td>3-37-0277</td>\n",
       "      <td>bachue</td>\n",
       "      <td>3-37-0277</td>\n",
       "      <td>racafe &amp; cia s.c.a</td>\n",
       "      <td>NaN</td>\n",
       "      <td>huila</td>\n",
       "      <td>...</td>\n",
       "      <td>NaN</td>\n",
       "      <td>2</td>\n",
       "      <td>2017-11-25</td>\n",
       "      <td>Almacafé</td>\n",
       "      <td>e493c36c2d076bf273064f7ac23ad562af257a25</td>\n",
       "      <td>70d3c0c26f89e00fdae6fb39ff54f0d2eb1c38ab</td>\n",
       "      <td>m</td>\n",
       "      <td>NaN</td>\n",
       "      <td>NaN</td>\n",
       "      <td>NaN</td>\n",
       "    </tr>\n",
       "    <tr>\n",
       "      <th>107</th>\n",
       "      <td>Arabica</td>\n",
       "      <td>racafe &amp; cia s.c.a</td>\n",
       "      <td>Colombia</td>\n",
       "      <td>NaN</td>\n",
       "      <td>NaN</td>\n",
       "      <td>NaN</td>\n",
       "      <td>3-37-4824</td>\n",
       "      <td>racafe &amp; cia s.c.a</td>\n",
       "      <td>de 1600 a 1950 msnm</td>\n",
       "      <td>huila</td>\n",
       "      <td>...</td>\n",
       "      <td>Green</td>\n",
       "      <td>1</td>\n",
       "      <td>2016-10-25</td>\n",
       "      <td>Almacafé</td>\n",
       "      <td>e493c36c2d076bf273064f7ac23ad562af257a25</td>\n",
       "      <td>70d3c0c26f89e00fdae6fb39ff54f0d2eb1c38ab</td>\n",
       "      <td>m</td>\n",
       "      <td>1600.0</td>\n",
       "      <td>1950.0</td>\n",
       "      <td>1775.0</td>\n",
       "    </tr>\n",
       "    <tr>\n",
       "      <th>110</th>\n",
       "      <td>Arabica</td>\n",
       "      <td>racafe &amp; cia s.c.a</td>\n",
       "      <td>Colombia</td>\n",
       "      <td>NaN</td>\n",
       "      <td>NaN</td>\n",
       "      <td>NaN</td>\n",
       "      <td>3-37-0416</td>\n",
       "      <td>racafe &amp; cia s.c.a</td>\n",
       "      <td>de 1600 a 1950 msnm</td>\n",
       "      <td>huila</td>\n",
       "      <td>...</td>\n",
       "      <td>Green</td>\n",
       "      <td>3</td>\n",
       "      <td>2013-12-11</td>\n",
       "      <td>Almacafé</td>\n",
       "      <td>e493c36c2d076bf273064f7ac23ad562af257a25</td>\n",
       "      <td>70d3c0c26f89e00fdae6fb39ff54f0d2eb1c38ab</td>\n",
       "      <td>m</td>\n",
       "      <td>1600.0</td>\n",
       "      <td>1950.0</td>\n",
       "      <td>1775.0</td>\n",
       "    </tr>\n",
       "    <tr>\n",
       "      <th>145</th>\n",
       "      <td>Arabica</td>\n",
       "      <td>racafe &amp; cia s.c.a</td>\n",
       "      <td>Colombia</td>\n",
       "      <td>NaN</td>\n",
       "      <td>3-37-1724</td>\n",
       "      <td>bucaramanga</td>\n",
       "      <td>3-37-1724</td>\n",
       "      <td>racafe &amp; cia s.c.a</td>\n",
       "      <td>1500</td>\n",
       "      <td>santander</td>\n",
       "      <td>...</td>\n",
       "      <td>Blue-Green</td>\n",
       "      <td>4</td>\n",
       "      <td>2018-01-10</td>\n",
       "      <td>Almacafé</td>\n",
       "      <td>e493c36c2d076bf273064f7ac23ad562af257a25</td>\n",
       "      <td>70d3c0c26f89e00fdae6fb39ff54f0d2eb1c38ab</td>\n",
       "      <td>m</td>\n",
       "      <td>1500.0</td>\n",
       "      <td>1500.0</td>\n",
       "      <td>1500.0</td>\n",
       "    </tr>\n",
       "  </tbody>\n",
       "</table>\n",
       "<p>5 rows × 43 columns</p>\n",
       "</div>"
      ],
      "text/plain": [
       "     species               owner country_of_origin farm_name lot_number  \\\n",
       "97   Arabica  racafe & cia s.c.a          Colombia       NaN  3-37-1829   \n",
       "106  Arabica  racafe & cia s.c.a          Colombia       NaN  3-37-0277   \n",
       "107  Arabica  racafe & cia s.c.a          Colombia       NaN        NaN   \n",
       "110  Arabica  racafe & cia s.c.a          Colombia       NaN        NaN   \n",
       "145  Arabica  racafe & cia s.c.a          Colombia       NaN  3-37-1724   \n",
       "\n",
       "            mill ico_number             company             altitude  \\\n",
       "97        bachue  3-37-1829  racafe & cia s.c.a                  NaN   \n",
       "106       bachue  3-37-0277  racafe & cia s.c.a                  NaN   \n",
       "107          NaN  3-37-4824  racafe & cia s.c.a  de 1600 a 1950 msnm   \n",
       "110          NaN  3-37-0416  racafe & cia s.c.a  de 1600 a 1950 msnm   \n",
       "145  bucaramanga  3-37-1724  racafe & cia s.c.a                 1500   \n",
       "\n",
       "        region  ...       color  category_two_defects  expiration  \\\n",
       "97       huila  ...       Green                     3  2018-02-15   \n",
       "106      huila  ...         NaN                     2  2017-11-25   \n",
       "107      huila  ...       Green                     1  2016-10-25   \n",
       "110      huila  ...       Green                     3  2013-12-11   \n",
       "145  santander  ...  Blue-Green                     4  2018-01-10   \n",
       "\n",
       "    certification_body                     certification_address  \\\n",
       "97            Almacafé  e493c36c2d076bf273064f7ac23ad562af257a25   \n",
       "106           Almacafé  e493c36c2d076bf273064f7ac23ad562af257a25   \n",
       "107           Almacafé  e493c36c2d076bf273064f7ac23ad562af257a25   \n",
       "110           Almacafé  e493c36c2d076bf273064f7ac23ad562af257a25   \n",
       "145           Almacafé  e493c36c2d076bf273064f7ac23ad562af257a25   \n",
       "\n",
       "                        certification_contact unit_of_measurement  \\\n",
       "97   70d3c0c26f89e00fdae6fb39ff54f0d2eb1c38ab                   m   \n",
       "106  70d3c0c26f89e00fdae6fb39ff54f0d2eb1c38ab                   m   \n",
       "107  70d3c0c26f89e00fdae6fb39ff54f0d2eb1c38ab                   m   \n",
       "110  70d3c0c26f89e00fdae6fb39ff54f0d2eb1c38ab                   m   \n",
       "145  70d3c0c26f89e00fdae6fb39ff54f0d2eb1c38ab                   m   \n",
       "\n",
       "    altitude_low_meters altitude_high_meters  altitude_mean_meters  \n",
       "97                  NaN                  NaN                   NaN  \n",
       "106                 NaN                  NaN                   NaN  \n",
       "107              1600.0               1950.0                1775.0  \n",
       "110              1600.0               1950.0                1775.0  \n",
       "145              1500.0               1500.0                1500.0  \n",
       "\n",
       "[5 rows x 43 columns]"
      ]
     },
     "execution_count": 52,
     "metadata": {},
     "output_type": "execute_result"
    }
   ],
   "source": [
    "coffee_data[coffee_data.owner == 'racafe & cia s.c.a'].head(5)"
   ]
  },
  {
   "cell_type": "markdown",
   "id": "55bd28c1-ca7b-460a-b9c9-93280053e2ff",
   "metadata": {},
   "source": [
    "How to seen above sells 'owner' 'racafe & cia s.c.a' have 43 records and with exeption the record that country_of_origin is None with the others country_of_origin is Columbia, therefore None value have to replace with Columbia in the record with country_of_origin None. Since know colunm and index used iloc[]"
   ]
  },
  {
   "cell_type": "code",
   "execution_count": 57,
   "id": "cc8875a7-9877-4fd9-984d-c9cefb340c8f",
   "metadata": {},
   "outputs": [],
   "source": [
    "coffee_data.iloc[1197, 2] = 'Colombia'"
   ]
  },
  {
   "cell_type": "markdown",
   "id": "d0aa6f30-4b93-4f23-95e0-2cafb7152c6c",
   "metadata": {},
   "source": [
    "### Problem 7. Owners (1 point)\n",
    "There are two suspicious columns, named `Owner`, and `Owner.1` (they're likely called something different after you solved problem 3). Do something about them. Is there any link to `Producer`?"
   ]
  },
  {
   "cell_type": "markdown",
   "id": "22428a68-9509-40fb-ae43-447e4c84077c",
   "metadata": {},
   "source": [
    "In cell 50 from Notebook can be seen owner is normalizedet (only low leter). Will be cheched that by comparing owner and lower owner_1 and metods strip and replace on space with none for both columns. If this is true both columns are the same ans owner_1 will be deleted"
   ]
  },
  {
   "cell_type": "code",
   "execution_count": 66,
   "id": "d222ab08-04d8-416f-86a8-6f7cf3d02b68",
   "metadata": {},
   "outputs": [
    {
     "data": {
      "text/html": [
       "<div>\n",
       "<style scoped>\n",
       "    .dataframe tbody tr th:only-of-type {\n",
       "        vertical-align: middle;\n",
       "    }\n",
       "\n",
       "    .dataframe tbody tr th {\n",
       "        vertical-align: top;\n",
       "    }\n",
       "\n",
       "    .dataframe thead th {\n",
       "        text-align: right;\n",
       "    }\n",
       "</style>\n",
       "<table border=\"1\" class=\"dataframe\">\n",
       "  <thead>\n",
       "    <tr style=\"text-align: right;\">\n",
       "      <th></th>\n",
       "      <th>owner</th>\n",
       "      <th>owner_1</th>\n",
       "    </tr>\n",
       "  </thead>\n",
       "  <tbody>\n",
       "    <tr>\n",
       "      <th>364</th>\n",
       "      <td>NaN</td>\n",
       "      <td>NaN</td>\n",
       "    </tr>\n",
       "    <tr>\n",
       "      <th>392</th>\n",
       "      <td>federacion nacional de cafeteros</td>\n",
       "      <td>Federación Nacional de Cafeteros</td>\n",
       "    </tr>\n",
       "    <tr>\n",
       "      <th>459</th>\n",
       "      <td>NaN</td>\n",
       "      <td>NaN</td>\n",
       "    </tr>\n",
       "    <tr>\n",
       "      <th>602</th>\n",
       "      <td>NaN</td>\n",
       "      <td>NaN</td>\n",
       "    </tr>\n",
       "    <tr>\n",
       "      <th>848</th>\n",
       "      <td>NaN</td>\n",
       "      <td>NaN</td>\n",
       "    </tr>\n",
       "    <tr>\n",
       "      <th>882</th>\n",
       "      <td>NaN</td>\n",
       "      <td>NaN</td>\n",
       "    </tr>\n",
       "    <tr>\n",
       "      <th>975</th>\n",
       "      <td>NaN</td>\n",
       "      <td>NaN</td>\n",
       "    </tr>\n",
       "    <tr>\n",
       "      <th>1044</th>\n",
       "      <td>NaN</td>\n",
       "      <td>NaN</td>\n",
       "    </tr>\n",
       "  </tbody>\n",
       "</table>\n",
       "</div>"
      ],
      "text/plain": [
       "                                 owner                           owner_1\n",
       "364                                NaN                               NaN\n",
       "392   federacion nacional de cafeteros  Federación Nacional de Cafeteros\n",
       "459                                NaN                               NaN\n",
       "602                                NaN                               NaN\n",
       "848                                NaN                               NaN\n",
       "882                                NaN                               NaN\n",
       "975                                NaN                               NaN\n",
       "1044                               NaN                               NaN"
      ]
     },
     "execution_count": 66,
     "metadata": {},
     "output_type": "execute_result"
    }
   ],
   "source": [
    "coffee_data[['owner', 'owner_1']][coffee_data.owner.str.strip().str.replace(' ', '', regex=False) != coffee_data.owner_1.str.lower().str.strip().str.replace(' ', '', regex=False)]"
   ]
  },
  {
   "cell_type": "markdown",
   "id": "ba8310a1-606d-4953-9214-04ffefb482e5",
   "metadata": {},
   "source": [
    "How can be seen next implement operations, hove few difference as all except are NaN value and the record that have differece at name the difference is one letter whoch in the one column is with English symbol 'o' but in the other is with 'o' with `. Now column owner_1 will be deleted.\n"
   ]
  },
  {
   "cell_type": "code",
   "execution_count": 67,
   "id": "fc26170c-3932-4b2b-a9bf-06dfde9a64e1",
   "metadata": {},
   "outputs": [],
   "source": [
    "coffee_data = coffee_data.drop(columns=['owner_1'])"
   ]
  },
  {
   "cell_type": "code",
   "execution_count": 68,
   "id": "3e8679a3-794b-4172-abe3-f533f10678b5",
   "metadata": {},
   "outputs": [
    {
     "data": {
      "text/plain": [
       "Index(['species', 'owner', 'country_of_origin', 'farm_name', 'lot_number',\n",
       "       'mill', 'ico_number', 'company', 'altitude', 'region', 'producer',\n",
       "       'number_of_bags', 'bag_weight', 'in_country_partner', 'harvest_year',\n",
       "       'grading_date', 'variety', 'processing_method', 'aroma', 'flavor',\n",
       "       'aftertaste', 'acidity', 'body', 'balance', 'uniformity', 'clean_cup',\n",
       "       'sweetness', 'cupper_points', 'total_cup_points', 'moisture',\n",
       "       'category_one_defects', 'quakers', 'color', 'category_two_defects',\n",
       "       'expiration', 'certification_body', 'certification_address',\n",
       "       'certification_contact', 'unit_of_measurement', 'altitude_low_meters',\n",
       "       'altitude_high_meters', 'altitude_mean_meters'],\n",
       "      dtype='object')"
      ]
     },
     "execution_count": 68,
     "metadata": {},
     "output_type": "execute_result"
    }
   ],
   "source": [
    "coffee_data.columns"
   ]
  },
  {
   "cell_type": "markdown",
   "id": "30c53923-1b72-4500-af0a-47fdca9f57e9",
   "metadata": {},
   "source": [
    "### Problem 8. Coffee color by country and continent (1 point)\n",
    "Create a table which shows how many coffees of each color are there in every country. Leave the missing values as they are.\n",
    "\n",
    "**Note:** If you ask me, countries should be in rows, I prefer long tables much better than wide ones.\n",
    "\n",
    "Now do the same for continents. You know what continent each country is located in."
   ]
  },
  {
   "cell_type": "code",
   "execution_count": 93,
   "id": "72cbe6a9-ca71-4826-806d-562bc30b40d2",
   "metadata": {},
   "outputs": [
    {
     "data": {
      "text/html": [
       "<div>\n",
       "<style scoped>\n",
       "    .dataframe tbody tr th:only-of-type {\n",
       "        vertical-align: middle;\n",
       "    }\n",
       "\n",
       "    .dataframe tbody tr th {\n",
       "        vertical-align: top;\n",
       "    }\n",
       "\n",
       "    .dataframe thead th {\n",
       "        text-align: right;\n",
       "    }\n",
       "</style>\n",
       "<table border=\"1\" class=\"dataframe\">\n",
       "  <thead>\n",
       "    <tr style=\"text-align: right;\">\n",
       "      <th>color</th>\n",
       "      <th>Blue-Green</th>\n",
       "      <th>Bluish-Green</th>\n",
       "      <th>Green</th>\n",
       "    </tr>\n",
       "    <tr>\n",
       "      <th>country_of_origin</th>\n",
       "      <th></th>\n",
       "      <th></th>\n",
       "      <th></th>\n",
       "    </tr>\n",
       "  </thead>\n",
       "  <tbody>\n",
       "    <tr>\n",
       "      <th>Brazil</th>\n",
       "      <td>14.0</td>\n",
       "      <td>12.0</td>\n",
       "      <td>92.0</td>\n",
       "    </tr>\n",
       "    <tr>\n",
       "      <th>Burundi</th>\n",
       "      <td>NaN</td>\n",
       "      <td>NaN</td>\n",
       "      <td>1.0</td>\n",
       "    </tr>\n",
       "    <tr>\n",
       "      <th>China</th>\n",
       "      <td>NaN</td>\n",
       "      <td>NaN</td>\n",
       "      <td>16.0</td>\n",
       "    </tr>\n",
       "    <tr>\n",
       "      <th>Colombia</th>\n",
       "      <td>8.0</td>\n",
       "      <td>8.0</td>\n",
       "      <td>118.0</td>\n",
       "    </tr>\n",
       "    <tr>\n",
       "      <th>Costa Rica</th>\n",
       "      <td>10.0</td>\n",
       "      <td>9.0</td>\n",
       "      <td>28.0</td>\n",
       "    </tr>\n",
       "    <tr>\n",
       "      <th>Cote d?Ivoire</th>\n",
       "      <td>NaN</td>\n",
       "      <td>1.0</td>\n",
       "      <td>NaN</td>\n",
       "    </tr>\n",
       "    <tr>\n",
       "      <th>Ecuador</th>\n",
       "      <td>2.0</td>\n",
       "      <td>1.0</td>\n",
       "      <td>NaN</td>\n",
       "    </tr>\n",
       "    <tr>\n",
       "      <th>El Salvador</th>\n",
       "      <td>2.0</td>\n",
       "      <td>2.0</td>\n",
       "      <td>9.0</td>\n",
       "    </tr>\n",
       "    <tr>\n",
       "      <th>Ethiopia</th>\n",
       "      <td>NaN</td>\n",
       "      <td>2.0</td>\n",
       "      <td>15.0</td>\n",
       "    </tr>\n",
       "    <tr>\n",
       "      <th>Guatemala</th>\n",
       "      <td>2.0</td>\n",
       "      <td>7.0</td>\n",
       "      <td>159.0</td>\n",
       "    </tr>\n",
       "    <tr>\n",
       "      <th>Haiti</th>\n",
       "      <td>1.0</td>\n",
       "      <td>1.0</td>\n",
       "      <td>2.0</td>\n",
       "    </tr>\n",
       "    <tr>\n",
       "      <th>Honduras</th>\n",
       "      <td>3.0</td>\n",
       "      <td>2.0</td>\n",
       "      <td>47.0</td>\n",
       "    </tr>\n",
       "    <tr>\n",
       "      <th>India</th>\n",
       "      <td>1.0</td>\n",
       "      <td>2.0</td>\n",
       "      <td>10.0</td>\n",
       "    </tr>\n",
       "    <tr>\n",
       "      <th>Indonesia</th>\n",
       "      <td>4.0</td>\n",
       "      <td>3.0</td>\n",
       "      <td>6.0</td>\n",
       "    </tr>\n",
       "    <tr>\n",
       "      <th>Japan</th>\n",
       "      <td>NaN</td>\n",
       "      <td>NaN</td>\n",
       "      <td>1.0</td>\n",
       "    </tr>\n",
       "    <tr>\n",
       "      <th>Kenya</th>\n",
       "      <td>3.0</td>\n",
       "      <td>6.0</td>\n",
       "      <td>14.0</td>\n",
       "    </tr>\n",
       "    <tr>\n",
       "      <th>Laos</th>\n",
       "      <td>1.0</td>\n",
       "      <td>1.0</td>\n",
       "      <td>1.0</td>\n",
       "    </tr>\n",
       "    <tr>\n",
       "      <th>Malawi</th>\n",
       "      <td>1.0</td>\n",
       "      <td>4.0</td>\n",
       "      <td>6.0</td>\n",
       "    </tr>\n",
       "    <tr>\n",
       "      <th>Mauritius</th>\n",
       "      <td>NaN</td>\n",
       "      <td>NaN</td>\n",
       "      <td>1.0</td>\n",
       "    </tr>\n",
       "    <tr>\n",
       "      <th>Mexico</th>\n",
       "      <td>7.0</td>\n",
       "      <td>7.0</td>\n",
       "      <td>156.0</td>\n",
       "    </tr>\n",
       "    <tr>\n",
       "      <th>Myanmar</th>\n",
       "      <td>NaN</td>\n",
       "      <td>NaN</td>\n",
       "      <td>7.0</td>\n",
       "    </tr>\n",
       "    <tr>\n",
       "      <th>Nicaragua</th>\n",
       "      <td>NaN</td>\n",
       "      <td>2.0</td>\n",
       "      <td>19.0</td>\n",
       "    </tr>\n",
       "    <tr>\n",
       "      <th>Panama</th>\n",
       "      <td>NaN</td>\n",
       "      <td>1.0</td>\n",
       "      <td>2.0</td>\n",
       "    </tr>\n",
       "    <tr>\n",
       "      <th>Papua New Guinea</th>\n",
       "      <td>NaN</td>\n",
       "      <td>1.0</td>\n",
       "      <td>NaN</td>\n",
       "    </tr>\n",
       "    <tr>\n",
       "      <th>Peru</th>\n",
       "      <td>NaN</td>\n",
       "      <td>2.0</td>\n",
       "      <td>6.0</td>\n",
       "    </tr>\n",
       "    <tr>\n",
       "      <th>Philippines</th>\n",
       "      <td>1.0</td>\n",
       "      <td>1.0</td>\n",
       "      <td>2.0</td>\n",
       "    </tr>\n",
       "    <tr>\n",
       "      <th>Rwanda</th>\n",
       "      <td>NaN</td>\n",
       "      <td>1.0</td>\n",
       "      <td>NaN</td>\n",
       "    </tr>\n",
       "    <tr>\n",
       "      <th>Taiwan</th>\n",
       "      <td>14.0</td>\n",
       "      <td>5.0</td>\n",
       "      <td>50.0</td>\n",
       "    </tr>\n",
       "    <tr>\n",
       "      <th>Tanzania, United Republic Of</th>\n",
       "      <td>NaN</td>\n",
       "      <td>7.0</td>\n",
       "      <td>32.0</td>\n",
       "    </tr>\n",
       "    <tr>\n",
       "      <th>Thailand</th>\n",
       "      <td>3.0</td>\n",
       "      <td>7.0</td>\n",
       "      <td>10.0</td>\n",
       "    </tr>\n",
       "    <tr>\n",
       "      <th>Uganda</th>\n",
       "      <td>2.0</td>\n",
       "      <td>1.0</td>\n",
       "      <td>32.0</td>\n",
       "    </tr>\n",
       "    <tr>\n",
       "      <th>United States</th>\n",
       "      <td>NaN</td>\n",
       "      <td>NaN</td>\n",
       "      <td>1.0</td>\n",
       "    </tr>\n",
       "    <tr>\n",
       "      <th>United States (Hawaii)</th>\n",
       "      <td>6.0</td>\n",
       "      <td>16.0</td>\n",
       "      <td>21.0</td>\n",
       "    </tr>\n",
       "    <tr>\n",
       "      <th>United States (Puerto Rico)</th>\n",
       "      <td>NaN</td>\n",
       "      <td>1.0</td>\n",
       "      <td>3.0</td>\n",
       "    </tr>\n",
       "    <tr>\n",
       "      <th>Vietnam</th>\n",
       "      <td>NaN</td>\n",
       "      <td>1.0</td>\n",
       "      <td>3.0</td>\n",
       "    </tr>\n",
       "  </tbody>\n",
       "</table>\n",
       "</div>"
      ],
      "text/plain": [
       "color                         Blue-Green  Bluish-Green  Green\n",
       "country_of_origin                                            \n",
       "Brazil                              14.0          12.0   92.0\n",
       "Burundi                              NaN           NaN    1.0\n",
       "China                                NaN           NaN   16.0\n",
       "Colombia                             8.0           8.0  118.0\n",
       "Costa Rica                          10.0           9.0   28.0\n",
       "Cote d?Ivoire                        NaN           1.0    NaN\n",
       "Ecuador                              2.0           1.0    NaN\n",
       "El Salvador                          2.0           2.0    9.0\n",
       "Ethiopia                             NaN           2.0   15.0\n",
       "Guatemala                            2.0           7.0  159.0\n",
       "Haiti                                1.0           1.0    2.0\n",
       "Honduras                             3.0           2.0   47.0\n",
       "India                                1.0           2.0   10.0\n",
       "Indonesia                            4.0           3.0    6.0\n",
       "Japan                                NaN           NaN    1.0\n",
       "Kenya                                3.0           6.0   14.0\n",
       "Laos                                 1.0           1.0    1.0\n",
       "Malawi                               1.0           4.0    6.0\n",
       "Mauritius                            NaN           NaN    1.0\n",
       "Mexico                               7.0           7.0  156.0\n",
       "Myanmar                              NaN           NaN    7.0\n",
       "Nicaragua                            NaN           2.0   19.0\n",
       "Panama                               NaN           1.0    2.0\n",
       "Papua New Guinea                     NaN           1.0    NaN\n",
       "Peru                                 NaN           2.0    6.0\n",
       "Philippines                          1.0           1.0    2.0\n",
       "Rwanda                               NaN           1.0    NaN\n",
       "Taiwan                              14.0           5.0   50.0\n",
       "Tanzania, United Republic Of         NaN           7.0   32.0\n",
       "Thailand                             3.0           7.0   10.0\n",
       "Uganda                               2.0           1.0   32.0\n",
       "United States                        NaN           NaN    1.0\n",
       "United States (Hawaii)               6.0          16.0   21.0\n",
       "United States (Puerto Rico)          NaN           1.0    3.0\n",
       "Vietnam                              NaN           1.0    3.0"
      ]
     },
     "execution_count": 93,
     "metadata": {},
     "output_type": "execute_result"
    }
   ],
   "source": [
    "coffee_data.groupby(['country_of_origin', 'color']).size().unstack()"
   ]
  },
  {
   "cell_type": "markdown",
   "id": "27095ced-7179-4ee4-94d3-7d94450b4120",
   "metadata": {},
   "source": [
    "### Problem 9. Ratings (1 point)\n",
    "The columns `Aroma`, `Flavor`, etc., up to `Moisture` represent subjective ratings. Explore them. Show the means and range; draw histograms and / or boxplots as needed. You can even try correlations if you want. What's up with all those ratings?"
   ]
  },
  {
   "cell_type": "code",
   "execution_count": 97,
   "id": "d08ee355-dcbb-4657-a814-cdcfbd455c42",
   "metadata": {},
   "outputs": [
    {
     "data": {
      "text/html": [
       "<div>\n",
       "<style scoped>\n",
       "    .dataframe tbody tr th:only-of-type {\n",
       "        vertical-align: middle;\n",
       "    }\n",
       "\n",
       "    .dataframe tbody tr th {\n",
       "        vertical-align: top;\n",
       "    }\n",
       "\n",
       "    .dataframe thead th {\n",
       "        text-align: right;\n",
       "    }\n",
       "</style>\n",
       "<table border=\"1\" class=\"dataframe\">\n",
       "  <thead>\n",
       "    <tr style=\"text-align: right;\">\n",
       "      <th></th>\n",
       "      <th>count</th>\n",
       "      <th>mean</th>\n",
       "      <th>std</th>\n",
       "      <th>min</th>\n",
       "      <th>25%</th>\n",
       "      <th>50%</th>\n",
       "      <th>75%</th>\n",
       "      <th>max</th>\n",
       "    </tr>\n",
       "  </thead>\n",
       "  <tbody>\n",
       "    <tr>\n",
       "      <th>aroma</th>\n",
       "      <td>1339.0</td>\n",
       "      <td>7.566706</td>\n",
       "      <td>0.377560</td>\n",
       "      <td>0.0</td>\n",
       "      <td>7.42</td>\n",
       "      <td>7.58</td>\n",
       "      <td>7.75</td>\n",
       "      <td>8.75</td>\n",
       "    </tr>\n",
       "    <tr>\n",
       "      <th>flavor</th>\n",
       "      <td>1339.0</td>\n",
       "      <td>7.520426</td>\n",
       "      <td>0.398442</td>\n",
       "      <td>0.0</td>\n",
       "      <td>7.33</td>\n",
       "      <td>7.58</td>\n",
       "      <td>7.75</td>\n",
       "      <td>8.83</td>\n",
       "    </tr>\n",
       "    <tr>\n",
       "      <th>aftertaste</th>\n",
       "      <td>1339.0</td>\n",
       "      <td>7.401083</td>\n",
       "      <td>0.404463</td>\n",
       "      <td>0.0</td>\n",
       "      <td>7.25</td>\n",
       "      <td>7.42</td>\n",
       "      <td>7.58</td>\n",
       "      <td>8.67</td>\n",
       "    </tr>\n",
       "    <tr>\n",
       "      <th>acidity</th>\n",
       "      <td>1339.0</td>\n",
       "      <td>7.535706</td>\n",
       "      <td>0.379827</td>\n",
       "      <td>0.0</td>\n",
       "      <td>7.33</td>\n",
       "      <td>7.58</td>\n",
       "      <td>7.75</td>\n",
       "      <td>8.75</td>\n",
       "    </tr>\n",
       "    <tr>\n",
       "      <th>body</th>\n",
       "      <td>1339.0</td>\n",
       "      <td>7.517498</td>\n",
       "      <td>0.370064</td>\n",
       "      <td>0.0</td>\n",
       "      <td>7.33</td>\n",
       "      <td>7.50</td>\n",
       "      <td>7.67</td>\n",
       "      <td>8.58</td>\n",
       "    </tr>\n",
       "    <tr>\n",
       "      <th>balance</th>\n",
       "      <td>1339.0</td>\n",
       "      <td>7.518013</td>\n",
       "      <td>0.408943</td>\n",
       "      <td>0.0</td>\n",
       "      <td>7.33</td>\n",
       "      <td>7.50</td>\n",
       "      <td>7.75</td>\n",
       "      <td>8.75</td>\n",
       "    </tr>\n",
       "    <tr>\n",
       "      <th>uniformity</th>\n",
       "      <td>1339.0</td>\n",
       "      <td>9.834877</td>\n",
       "      <td>0.554591</td>\n",
       "      <td>0.0</td>\n",
       "      <td>10.00</td>\n",
       "      <td>10.00</td>\n",
       "      <td>10.00</td>\n",
       "      <td>10.00</td>\n",
       "    </tr>\n",
       "    <tr>\n",
       "      <th>clean_cup</th>\n",
       "      <td>1339.0</td>\n",
       "      <td>9.835108</td>\n",
       "      <td>0.763946</td>\n",
       "      <td>0.0</td>\n",
       "      <td>10.00</td>\n",
       "      <td>10.00</td>\n",
       "      <td>10.00</td>\n",
       "      <td>10.00</td>\n",
       "    </tr>\n",
       "    <tr>\n",
       "      <th>sweetness</th>\n",
       "      <td>1339.0</td>\n",
       "      <td>9.856692</td>\n",
       "      <td>0.616102</td>\n",
       "      <td>0.0</td>\n",
       "      <td>10.00</td>\n",
       "      <td>10.00</td>\n",
       "      <td>10.00</td>\n",
       "      <td>10.00</td>\n",
       "    </tr>\n",
       "    <tr>\n",
       "      <th>cupper_points</th>\n",
       "      <td>1339.0</td>\n",
       "      <td>7.503376</td>\n",
       "      <td>0.473464</td>\n",
       "      <td>0.0</td>\n",
       "      <td>7.25</td>\n",
       "      <td>7.50</td>\n",
       "      <td>7.75</td>\n",
       "      <td>10.00</td>\n",
       "    </tr>\n",
       "    <tr>\n",
       "      <th>total_cup_points</th>\n",
       "      <td>1339.0</td>\n",
       "      <td>82.089851</td>\n",
       "      <td>3.500575</td>\n",
       "      <td>0.0</td>\n",
       "      <td>81.08</td>\n",
       "      <td>82.50</td>\n",
       "      <td>83.67</td>\n",
       "      <td>90.58</td>\n",
       "    </tr>\n",
       "    <tr>\n",
       "      <th>moisture</th>\n",
       "      <td>1339.0</td>\n",
       "      <td>0.088379</td>\n",
       "      <td>0.048287</td>\n",
       "      <td>0.0</td>\n",
       "      <td>0.09</td>\n",
       "      <td>0.11</td>\n",
       "      <td>0.12</td>\n",
       "      <td>0.28</td>\n",
       "    </tr>\n",
       "  </tbody>\n",
       "</table>\n",
       "</div>"
      ],
      "text/plain": [
       "                   count       mean       std  min    25%    50%    75%    max\n",
       "aroma             1339.0   7.566706  0.377560  0.0   7.42   7.58   7.75   8.75\n",
       "flavor            1339.0   7.520426  0.398442  0.0   7.33   7.58   7.75   8.83\n",
       "aftertaste        1339.0   7.401083  0.404463  0.0   7.25   7.42   7.58   8.67\n",
       "acidity           1339.0   7.535706  0.379827  0.0   7.33   7.58   7.75   8.75\n",
       "body              1339.0   7.517498  0.370064  0.0   7.33   7.50   7.67   8.58\n",
       "balance           1339.0   7.518013  0.408943  0.0   7.33   7.50   7.75   8.75\n",
       "uniformity        1339.0   9.834877  0.554591  0.0  10.00  10.00  10.00  10.00\n",
       "clean_cup         1339.0   9.835108  0.763946  0.0  10.00  10.00  10.00  10.00\n",
       "sweetness         1339.0   9.856692  0.616102  0.0  10.00  10.00  10.00  10.00\n",
       "cupper_points     1339.0   7.503376  0.473464  0.0   7.25   7.50   7.75  10.00\n",
       "total_cup_points  1339.0  82.089851  3.500575  0.0  81.08  82.50  83.67  90.58\n",
       "moisture          1339.0   0.088379  0.048287  0.0   0.09   0.11   0.12   0.28"
      ]
     },
     "execution_count": 97,
     "metadata": {},
     "output_type": "execute_result"
    }
   ],
   "source": [
    "feachers_for_analize = ['aroma', 'flavor', 'aftertaste', 'acidity', 'body', 'balance', 'uniformity', 'clean_cup', 'sweetness', 'cupper_points', 'total_cup_points', 'moisture']\n",
    "coffee_data[featurs_for_analize].describe().T"
   ]
  },
  {
   "cell_type": "code",
   "execution_count": 103,
   "id": "f42bff11-f149-4900-b8fa-dfe05a668b83",
   "metadata": {},
   "outputs": [
    {
     "data": {
      "image/png": "[encoded data removed]",
      "text/plain": [
       "<Figure size 1500x1000 with 12 Axes>"
      ]
     },
     "metadata": {},
     "output_type": "display_data"
    }
   ],
   "source": [
    "coffee_data[feachers_for_analize].hist(bins=10, figsize=(15, 10), alpha=0.7)\n",
    "plt.suptitle('Histograms of featurs')\n",
    "plt.show()"
   ]
  },
  {
   "cell_type": "code",
   "execution_count": 116,
   "id": "4e34ddeb-bd10-4ecc-9fcc-d6519b94eed0",
   "metadata": {},
   "outputs": [
    {
     "data": {
      "image/png": "[encoded data removed]",
      "text/plain": [
       "<Figure size 1000x600 with 1 Axes>"
      ]
     },
     "metadata": {},
     "output_type": "display_data"
    }
   ],
   "source": [
    "plt.figure(figsize=(10, 6))\n",
    "\n",
    "for feature in feachers_for_analize:\n",
    "    plt.hist(coffee_data[feature], bins=10, alpha=0.5, label=feature, edgecolor='black')\n",
    "\n",
    "plt.legend()\n",
    "plt.xlabel('Value')\n",
    "plt.ylabel('Frequency')\n",
    "plt.show()"
   ]
  },
  {
   "cell_type": "code",
   "execution_count": 128,
   "id": "929c5e6f-a3c5-4ac4-a581-38f78212a418",
   "metadata": {},
   "outputs": [
    {
     "data": {
      "image/png": "[encoded data removed]",
      "text/plain": [
       "<Figure size 1000x600 with 1 Axes>"
      ]
     },
     "metadata": {},
     "output_type": "display_data"
    }
   ],
   "source": [
    "plt.figure(figsize=(10, 6))\n",
    "\n",
    "for feature in feachers_for_analize:\n",
    "    plt.hist(coffee_data[feature], bins=10, alpha=0.5, label=feature, edgecolor='black', weights=[100 / len(coffee_data)] * len(coffee_data))\n",
    "\n",
    "plt.legend()\n",
    "plt.xlabel('Value')\n",
    "plt.ylabel('Precentage (%)')\n",
    "plt.show()"
   ]
  },
  {
   "cell_type": "code",
   "execution_count": 109,
   "id": "178fccb6-4f8c-4ca8-b057-06c1b45f4765",
   "metadata": {},
   "outputs": [
    {
     "data": {
      "image/png": "[encoded data removed]",
      "text/plain": [
       "<Figure size 1000x800 with 12 Axes>"
      ]
     },
     "metadata": {},
     "output_type": "display_data"
    }
   ],
   "source": [
    "rows = 4\n",
    "cols = 3\n",
    "\n",
    "fig, axes = plt.subplots(rows, cols, figsize=(10, 8))\n",
    "\n",
    "axes = axes.flatten()\n",
    "\n",
    "for i, feature in enumerate(feachers_for_analize):\n",
    "    sns.histplot(coffee_data[feature], bins=10, kde=True, ax=axes[i])\n",
    "    axes[i].set_title(f'Histogram of {feature}')\n",
    "\n",
    "plt.tight_layout()\n",
    "plt.show()"
   ]
  },
  {
   "cell_type": "code",
   "execution_count": 113,
   "id": "46525725-f824-40d9-8c3f-1cd2512782f7",
   "metadata": {},
   "outputs": [
    {
     "data": {
      "image/png": "[encoded data removed]",
      "text/plain": [
       "<Figure size 1000x600 with 1 Axes>"
      ]
     },
     "metadata": {},
     "output_type": "display_data"
    }
   ],
   "source": [
    "plt.figure(figsize=(10, 6))\n",
    "\n",
    "for feature in feachers_for_analize:\n",
    "    sns.histplot(coffee_data[feature], bins=10, kde=True, label=feature, alpha=0.5)\n",
    "\n",
    "plt.legend()\n",
    "plt.title('Owerlaid Histograms of features')\n",
    "plt.xlabel('Value')\n",
    "plt.ylabel('Frequency')\n",
    "plt.show()"
   ]
  },
  {
   "cell_type": "code",
   "execution_count": 127,
   "id": "51b673bf-9a07-45d0-934c-738079efa81e",
   "metadata": {},
   "outputs": [
    {
     "name": "stderr",
     "output_type": "stream",
     "text": [
      "C:\\Users\\Nikolay\\AppData\\Local\\Temp\\ipykernel_15132\\163522014.py:2: MatplotlibDeprecationWarning: The 'labels' parameter of boxplot() has been renamed 'tick_labels' since Matplotlib 3.9; support for the old name will be dropped in 3.11.\n",
      "  plt.boxplot([coffee_data[feature] for feature in feachers_for_analize], labels=feachers_for_analize, patch_artist=True)\n"
     ]
    },
    {
     "data": {
      "image/png": "[encoded data removed]",
      "text/plain": [
       "<Figure size 800x600 with 1 Axes>"
      ]
     },
     "metadata": {},
     "output_type": "display_data"
    }
   ],
   "source": [
    "plt.figure(figsize=(8, 6))\n",
    "plt.boxplot([coffee_data[feature] for feature in feachers_for_analize], labels=feachers_for_analize, patch_artist=True)\n",
    "\n",
    "plt.title(\"Boxplots of Selected Features\")\n",
    "plt.ylabel(\"Values\")\n",
    "plt.grid(axis='y', linestyle='--', alpha=0.7)\n",
    "plt.show()"
   ]
  },
  {
   "cell_type": "code",
   "execution_count": 134,
   "id": "ffc259aa-ad05-4a03-b391-24c4139b20ab",
   "metadata": {},
   "outputs": [
    {
     "data": {
      "image/png": "[encoded data removed]",
      "text/plain": [
       "<Figure size 1500x1000 with 1 Axes>"
      ]
     },
     "metadata": {},
     "output_type": "display_data"
    }
   ],
   "source": [
    "coffee_data[feachers_for_analize].boxplot(figsize=(15, 10), patch_artist=True)\n",
    "plt.suptitle('Boxplots of featurs')\n",
    "plt.show()"
   ]
  },
  {
   "cell_type": "markdown",
   "id": "92054218-978d-48c6-b7aa-36226837354c",
   "metadata": {},
   "source": [
    "### Problem 10. High-level errors (1 point)\n",
    "Check the countries against region names, altitudes, and companies. Are there any discrepancies (e.g. human errors, like a region not matching the country)? Take a look at the (cleaned) altitudes; there has been a lot of preprocessing done to them. Was it done correctly?"
   ]
  },
  {
   "cell_type": "markdown",
   "id": "75ded676-e02c-4b5a-a991-4ab63bf88b69",
   "metadata": {},
   "source": [
    "For this problem first will be used metod groupby that collect by region and count unique countries each region with metod nunique. Then will be check menual each region which is more 1 countris."
   ]
  },
  {
   "cell_type": "code",
   "execution_count": 152,
   "id": "a971e5dd-4bb1-4ad6-bcbc-3cceab758f5d",
   "metadata": {},
   "outputs": [
    {
     "data": {
      "text/plain": [
       "region\n",
       "antioquia      2\n",
       "chikmagalur    2\n",
       "jalapa         2\n",
       "menglian       2\n",
       "occidental     2\n",
       "san marcos     2\n",
       "Name: country_of_origin, dtype: int64"
      ]
     },
     "execution_count": 152,
     "metadata": {},
     "output_type": "execute_result"
    }
   ],
   "source": [
    "(coffee_data.groupby('region')['country_of_origin'].nunique()[coffee_data.groupby('region')['country_of_origin'].nunique() > 1])"
   ]
  },
  {
   "cell_type": "code",
   "execution_count": 158,
   "id": "080c7ea2-19f6-4ea7-b64c-22ada5c672c6",
   "metadata": {},
   "outputs": [
    {
     "data": {
      "text/plain": [
       "210     Guatemala\n",
       "376     Guatemala\n",
       "458      Honduras\n",
       "460     Guatemala\n",
       "560     Guatemala\n",
       "580     Guatemala\n",
       "675     Guatemala\n",
       "676     Guatemala\n",
       "811     Guatemala\n",
       "859     Guatemala\n",
       "871     Guatemala\n",
       "935     Guatemala\n",
       "958      Honduras\n",
       "1005     Honduras\n",
       "1140    Guatemala\n",
       "1192    Guatemala\n",
       "Name: country_of_origin, dtype: object"
      ]
     },
     "execution_count": 158,
     "metadata": {},
     "output_type": "execute_result"
    }
   ],
   "source": [
    "coffee_data.country_of_origin[coffee_data.region == 'san marcos']"
   ]
  },
  {
   "cell_type": "markdown",
   "id": "c058f228-b515-4e79-a799-ae3d7c23fba0",
   "metadata": {},
   "source": [
    "Have two region which are in two countris but in one by them theran't same region. Region Chikmagalur is only in India and in the USA its hasn't and Menglian than exist only in China but not in Mexico.\n",
    "New will be check 'owner' and 'farm_name' with purpose to understood which is really country or region for this records."
   ]
  },
  {
   "cell_type": "code",
   "execution_count": 159,
   "id": "b76d66a3-6fc7-4acd-b2de-a3cd5b7a2672",
   "metadata": {},
   "outputs": [
    {
     "data": {
      "text/html": [
       "<div>\n",
       "<style scoped>\n",
       "    .dataframe tbody tr th:only-of-type {\n",
       "        vertical-align: middle;\n",
       "    }\n",
       "\n",
       "    .dataframe tbody tr th {\n",
       "        vertical-align: top;\n",
       "    }\n",
       "\n",
       "    .dataframe thead th {\n",
       "        text-align: right;\n",
       "    }\n",
       "</style>\n",
       "<table border=\"1\" class=\"dataframe\">\n",
       "  <thead>\n",
       "    <tr style=\"text-align: right;\">\n",
       "      <th></th>\n",
       "      <th>farm_name</th>\n",
       "      <th>owner</th>\n",
       "      <th>country_of_origin</th>\n",
       "      <th>region</th>\n",
       "    </tr>\n",
       "  </thead>\n",
       "  <tbody>\n",
       "    <tr>\n",
       "      <th>1313</th>\n",
       "      <td>sethuraman estate</td>\n",
       "      <td>andrew hetzel</td>\n",
       "      <td>India</td>\n",
       "      <td>chikmagalur</td>\n",
       "    </tr>\n",
       "    <tr>\n",
       "      <th>1316</th>\n",
       "      <td>NaN</td>\n",
       "      <td>andrew hetzel</td>\n",
       "      <td>India</td>\n",
       "      <td>chikmagalur</td>\n",
       "    </tr>\n",
       "    <tr>\n",
       "      <th>1317</th>\n",
       "      <td>sethuraman estates</td>\n",
       "      <td>andrew hetzel</td>\n",
       "      <td>India</td>\n",
       "      <td>chikmagalur</td>\n",
       "    </tr>\n",
       "    <tr>\n",
       "      <th>1323</th>\n",
       "      <td>sethuraman estates</td>\n",
       "      <td>andrew hetzel</td>\n",
       "      <td>India</td>\n",
       "      <td>chikmagalur</td>\n",
       "    </tr>\n",
       "    <tr>\n",
       "      <th>1326</th>\n",
       "      <td>sethuraman estate</td>\n",
       "      <td>andrew hetzel</td>\n",
       "      <td>India</td>\n",
       "      <td>chikmagalur</td>\n",
       "    </tr>\n",
       "    <tr>\n",
       "      <th>1327</th>\n",
       "      <td>sethuraman estates</td>\n",
       "      <td>andrew hetzel</td>\n",
       "      <td>India</td>\n",
       "      <td>chikmagalur</td>\n",
       "    </tr>\n",
       "    <tr>\n",
       "      <th>1331</th>\n",
       "      <td>sethuraman estates</td>\n",
       "      <td>andrew hetzel</td>\n",
       "      <td>India</td>\n",
       "      <td>chikmagalur</td>\n",
       "    </tr>\n",
       "    <tr>\n",
       "      <th>1332</th>\n",
       "      <td>sethuraman estates</td>\n",
       "      <td>andrew hetzel</td>\n",
       "      <td>India</td>\n",
       "      <td>chikmagalur</td>\n",
       "    </tr>\n",
       "    <tr>\n",
       "      <th>1333</th>\n",
       "      <td>sethuraman estates</td>\n",
       "      <td>andrew hetzel</td>\n",
       "      <td>United States</td>\n",
       "      <td>chikmagalur</td>\n",
       "    </tr>\n",
       "  </tbody>\n",
       "</table>\n",
       "</div>"
      ],
      "text/plain": [
       "               farm_name          owner country_of_origin       region\n",
       "1313   sethuraman estate  andrew hetzel             India  chikmagalur\n",
       "1316                 NaN  andrew hetzel             India  chikmagalur\n",
       "1317  sethuraman estates  andrew hetzel             India  chikmagalur\n",
       "1323  sethuraman estates  andrew hetzel             India  chikmagalur\n",
       "1326   sethuraman estate  andrew hetzel             India  chikmagalur\n",
       "1327  sethuraman estates  andrew hetzel             India  chikmagalur\n",
       "1331  sethuraman estates  andrew hetzel             India  chikmagalur\n",
       "1332  sethuraman estates  andrew hetzel             India  chikmagalur\n",
       "1333  sethuraman estates  andrew hetzel     United States  chikmagalur"
      ]
     },
     "execution_count": 159,
     "metadata": {},
     "output_type": "execute_result"
    }
   ],
   "source": [
    "coffee_data[['farm_name', 'owner', 'country_of_origin', 'region']][coffee_data.region == 'chikmagalur']"
   ]
  },
  {
   "cell_type": "code",
   "execution_count": 160,
   "id": "a960e6cb-0e40-4645-98dc-09f2daa2ab3e",
   "metadata": {},
   "outputs": [
    {
     "data": {
      "text/html": [
       "<div>\n",
       "<style scoped>\n",
       "    .dataframe tbody tr th:only-of-type {\n",
       "        vertical-align: middle;\n",
       "    }\n",
       "\n",
       "    .dataframe tbody tr th {\n",
       "        vertical-align: top;\n",
       "    }\n",
       "\n",
       "    .dataframe thead th {\n",
       "        text-align: right;\n",
       "    }\n",
       "</style>\n",
       "<table border=\"1\" class=\"dataframe\">\n",
       "  <thead>\n",
       "    <tr style=\"text-align: right;\">\n",
       "      <th></th>\n",
       "      <th>farm_name</th>\n",
       "      <th>owner</th>\n",
       "      <th>country_of_origin</th>\n",
       "      <th>region</th>\n",
       "    </tr>\n",
       "  </thead>\n",
       "  <tbody>\n",
       "    <tr>\n",
       "      <th>591</th>\n",
       "      <td>pu'er lingdu yunlin coffee co.ltd</td>\n",
       "      <td>yunnan coffee exchange</td>\n",
       "      <td>China</td>\n",
       "      <td>menglian</td>\n",
       "    </tr>\n",
       "    <tr>\n",
       "      <th>1280</th>\n",
       "      <td>la cruz</td>\n",
       "      <td>grupo juvenil magtayani, ac</td>\n",
       "      <td>Mexico</td>\n",
       "      <td>menglian</td>\n",
       "    </tr>\n",
       "  </tbody>\n",
       "</table>\n",
       "</div>"
      ],
      "text/plain": [
       "                              farm_name                        owner  \\\n",
       "591   pu'er lingdu yunlin coffee co.ltd       yunnan coffee exchange   \n",
       "1280                            la cruz  grupo juvenil magtayani, ac   \n",
       "\n",
       "     country_of_origin    region  \n",
       "591              China  menglian  \n",
       "1280            Mexico  menglian  "
      ]
     },
     "execution_count": 160,
     "metadata": {},
     "output_type": "execute_result"
    }
   ],
   "source": [
    "coffee_data[['farm_name', 'owner', 'country_of_origin', 'region']][coffee_data.region == 'menglian']"
   ]
  },
  {
   "cell_type": "code",
   "execution_count": 167,
   "id": "43589b98-57b7-4daa-85c5-bb9d122d999a",
   "metadata": {},
   "outputs": [
    {
     "data": {
      "text/html": [
       "<div>\n",
       "<style scoped>\n",
       "    .dataframe tbody tr th:only-of-type {\n",
       "        vertical-align: middle;\n",
       "    }\n",
       "\n",
       "    .dataframe tbody tr th {\n",
       "        vertical-align: top;\n",
       "    }\n",
       "\n",
       "    .dataframe thead th {\n",
       "        text-align: right;\n",
       "    }\n",
       "</style>\n",
       "<table border=\"1\" class=\"dataframe\">\n",
       "  <thead>\n",
       "    <tr style=\"text-align: right;\">\n",
       "      <th></th>\n",
       "      <th>farm_name</th>\n",
       "      <th>owner</th>\n",
       "      <th>country_of_origin</th>\n",
       "      <th>region</th>\n",
       "      <th>number_of_bags</th>\n",
       "      <th>bag_weight</th>\n",
       "    </tr>\n",
       "  </thead>\n",
       "  <tbody>\n",
       "    <tr>\n",
       "      <th>1280</th>\n",
       "      <td>la cruz</td>\n",
       "      <td>grupo juvenil magtayani, ac</td>\n",
       "      <td>Mexico</td>\n",
       "      <td>menglian</td>\n",
       "      <td>43</td>\n",
       "      <td>1.0</td>\n",
       "    </tr>\n",
       "  </tbody>\n",
       "</table>\n",
       "</div>"
      ],
      "text/plain": [
       "     farm_name                        owner country_of_origin    region  \\\n",
       "1280   la cruz  grupo juvenil magtayani, ac            Mexico  menglian   \n",
       "\n",
       "      number_of_bags  bag_weight  \n",
       "1280              43         1.0  "
      ]
     },
     "execution_count": 167,
     "metadata": {},
     "output_type": "execute_result"
    }
   ],
   "source": [
    "coffee_data[['farm_name', 'owner', 'country_of_origin', 'region', 'number_of_bags', 'bag_weight']][coffee_data.farm_name == 'la cruz']"
   ]
  },
  {
   "cell_type": "markdown",
   "id": "02f16f0b-a941-47f0-92b4-3bb14937b1f4",
   "metadata": {},
   "source": [
    "Above sells can be seen about region Menglian is error at the United States as country_of _origin because as farm is sethuraman estates and as owner is andrew hetzel the other them records as country is India and this value in this sel will be change on India.\n",
    "For another rong country didn't understand what is real region since this is the only record about farm and owner. From farm name - la cruz, may to guess the country is Mexico but there have quet a few regions. This record is only 1 kg bag-weight and 43 bag count, which is to small. "
   ]
  },
  {
   "cell_type": "code",
   "execution_count": 171,
   "id": "79b3ce43-ab49-4de3-9f19-18b55f430311",
   "metadata": {},
   "outputs": [],
   "source": [
    "coffee_data.iloc[1333,2] = 'India'"
   ]
  },
  {
   "cell_type": "code",
   "execution_count": 184,
   "id": "6984df1f-beb7-46df-824f-75c3f95b4c9e",
   "metadata": {},
   "outputs": [
    {
     "data": {
      "text/plain": [
       "0           1950-2200\n",
       "1           1950-2200\n",
       "2       1600 - 1800 m\n",
       "3           1800-2200\n",
       "4           1950-2200\n",
       "            ...      \n",
       "1327             750m\n",
       "1331             750m\n",
       "1332             750m\n",
       "1333            3000'\n",
       "1336       795 meters\n",
       "Name: altitude, Length: 472, dtype: object"
      ]
     },
     "execution_count": 184,
     "metadata": {},
     "output_type": "execute_result"
    }
   ],
   "source": [
    "#coffee_data.groupby('country_of_origin')['altitude'].agg(['min', 'max', 'mean'])\n",
    "coffee_data.altitude[~(coffee_data.altitude.astype(str).str.strip().str.isdigit())].dropna()"
   ]
  },
  {
   "cell_type": "code",
   "execution_count": 200,
   "id": "b8563040-9e3c-45af-8236-7e9f8619a264",
   "metadata": {},
   "outputs": [
    {
     "data": {
      "text/plain": [
       "0           1950-2200\n",
       "1           1950-2200\n",
       "2       1600 - 1800 m\n",
       "3           1800-2200\n",
       "4           1950-2200\n",
       "            ...      \n",
       "1256        400-1250m\n",
       "1259    900-1500 masl\n",
       "1297       640m-1400m\n",
       "1315        1200-1300\n",
       "1320         900-1300\n",
       "Name: altitude, Length: 176, dtype: object"
      ]
     },
     "execution_count": 200,
     "metadata": {},
     "output_type": "execute_result"
    }
   ],
   "source": [
    "#farvest_gradiing_expiration_date = coffee_data[['harvest_year', 'grading_date', 'expiration']].dropna(subset=['harvest_year'])\n",
    "#farvest_gradiing_expiration_date.harvest_year = farvest_gradiing_expiration_date.harvest_year.str.findall(r'\\d{4}').apply(lambda x: x[-1] if isinstance(x, list) and x else None).dropna().astype(int)\n",
    "#farvest_gradiing_expiration_date.dtypes\n",
    "coffee_data.altitude[\n",
    "    coffee_data.altitude.dropna().astype(str)\n",
    "    .str.findall(r'\\d+')\n",
    "    .apply(lambda x: x if isinstance(x, list) and len(x) > 1 else None)\n",
    "    .dropna().index\n",
    "]\n"
   ]
  },
  {
   "cell_type": "code",
   "execution_count": 211,
   "id": "a8f43244-25a3-412e-9213-f2cfe20e29e7",
   "metadata": {},
   "outputs": [],
   "source": [
    "coffee_data['altitude_min'] = coffee_data.altitude.dropna().astype(str).str.findall(r'\\d+').apply(lambda x: x[0] if isinstance(x, list) and x else None).astype('Int64')\n",
    "coffee_data['altitude_max'] = coffee_data.altitude.dropna().astype(str).str.findall(r'\\d+').apply(lambda x: x[-1] if isinstance(x, list) and x else None).astype('Int64')\n"
   ]
  },
  {
   "cell_type": "code",
   "execution_count": 214,
   "id": "dbe464f5-43f1-4578-ac9e-14333489cc2d",
   "metadata": {},
   "outputs": [],
   "source": [
    "coffee_data = coffee_data.drop(columns='altitude')"
   ]
  },
  {
   "cell_type": "code",
   "execution_count": 218,
   "id": "ef31298e-aef7-483f-b6b8-ef66f67167e8",
   "metadata": {},
   "outputs": [
    {
     "data": {
      "text/plain": [
       "altitude_low_meters     230\n",
       "altitude_high_meters    230\n",
       "altitude_mean_meters    230\n",
       "altitude_min            229\n",
       "altitude_max            229\n",
       "dtype: int64"
      ]
     },
     "execution_count": 218,
     "metadata": {},
     "output_type": "execute_result"
    }
   ],
   "source": [
    "coffee_data[['altitude_low_meters', 'altitude_high_meters', 'altitude_mean_meters', 'altitude_min', 'altitude_max']].isna().sum()"
   ]
  },
  {
   "cell_type": "code",
   "execution_count": 220,
   "id": "f0b2367e-c2e5-4bef-964c-66c89a3f2b17",
   "metadata": {},
   "outputs": [
    {
     "name": "stderr",
     "output_type": "stream",
     "text": [
      "C:\\Users\\Nikolay\\AppData\\Local\\Temp\\ipykernel_15132\\1155407246.py:1: FutureWarning: DataFrame.applymap has been deprecated. Use DataFrame.map instead.\n",
      "  coffee_data[['altitude_low_meters', 'altitude_high_meters', 'altitude_mean_meters', 'altitude_min', 'altitude_max']].applymap(type).nunique()\n"
     ]
    },
    {
     "data": {
      "text/plain": [
       "altitude_low_meters     1\n",
       "altitude_high_meters    1\n",
       "altitude_mean_meters    1\n",
       "altitude_min            2\n",
       "altitude_max            2\n",
       "dtype: int64"
      ]
     },
     "execution_count": 220,
     "metadata": {},
     "output_type": "execute_result"
    }
   ],
   "source": [
    "coffee_data[['altitude_low_meters', 'altitude_high_meters', 'altitude_mean_meters', 'altitude_min', 'altitude_max']].applymap(type).nunique()"
   ]
  },
  {
   "cell_type": "code",
   "execution_count": 224,
   "id": "abaa515a-74be-4180-8125-8b5d885ec040",
   "metadata": {},
   "outputs": [
    {
     "data": {
      "text/html": [
       "<div>\n",
       "<style scoped>\n",
       "    .dataframe tbody tr th:only-of-type {\n",
       "        vertical-align: middle;\n",
       "    }\n",
       "\n",
       "    .dataframe tbody tr th {\n",
       "        vertical-align: top;\n",
       "    }\n",
       "\n",
       "    .dataframe thead th {\n",
       "        text-align: right;\n",
       "    }\n",
       "</style>\n",
       "<table border=\"1\" class=\"dataframe\">\n",
       "  <thead>\n",
       "    <tr style=\"text-align: right;\">\n",
       "      <th></th>\n",
       "      <th>altitude_low_meters</th>\n",
       "      <th>altitude_high_meters</th>\n",
       "      <th>altitude_mean_meters</th>\n",
       "      <th>altitude_min</th>\n",
       "      <th>altitude_max</th>\n",
       "    </tr>\n",
       "  </thead>\n",
       "  <tbody>\n",
       "    <tr>\n",
       "      <th>986</th>\n",
       "      <td>NaN</td>\n",
       "      <td>NaN</td>\n",
       "      <td>NaN</td>\n",
       "      <td>0</td>\n",
       "      <td>0</td>\n",
       "    </tr>\n",
       "  </tbody>\n",
       "</table>\n",
       "</div>"
      ],
      "text/plain": [
       "     altitude_low_meters  altitude_high_meters  altitude_mean_meters  \\\n",
       "986                  NaN                   NaN                   NaN   \n",
       "\n",
       "     altitude_min  altitude_max  \n",
       "986             0             0  "
      ]
     },
     "execution_count": 224,
     "metadata": {},
     "output_type": "execute_result"
    }
   ],
   "source": [
    "coffee_data[['altitude_low_meters', 'altitude_high_meters', 'altitude_mean_meters', 'altitude_min', 'altitude_max']][(coffee_data.altitude_high_meters.isna()) & (coffee_data.altitude_max.notna())]\n"
   ]
  },
  {
   "cell_type": "code",
   "execution_count": 232,
   "id": "a75e45ab-9048-4baa-9aec-91b03c6ba22f",
   "metadata": {},
   "outputs": [
    {
     "data": {
      "text/plain": [
       "altitude_max\n",
       "190164     1\n",
       "11000      1\n",
       "6200       1\n",
       "6100       1\n",
       "6000       3\n",
       "          ..\n",
       "8          1\n",
       "3          2\n",
       "2          2\n",
       "1         12\n",
       "0          2\n",
       "Name: count, Length: 196, dtype: Int64"
      ]
     },
     "execution_count": 232,
     "metadata": {},
     "output_type": "execute_result"
    }
   ],
   "source": [
    "coffee_data.altitude_max.dropna().value_counts().sort_index(ascending=False)"
   ]
  },
  {
   "cell_type": "code",
   "execution_count": 247,
   "id": "386c3c49-c003-44f4-9ba3-368468ad769d",
   "metadata": {},
   "outputs": [
    {
     "data": {
      "text/html": [
       "<div>\n",
       "<style scoped>\n",
       "    .dataframe tbody tr th:only-of-type {\n",
       "        vertical-align: middle;\n",
       "    }\n",
       "\n",
       "    .dataframe tbody tr th {\n",
       "        vertical-align: top;\n",
       "    }\n",
       "\n",
       "    .dataframe thead th {\n",
       "        text-align: right;\n",
       "    }\n",
       "</style>\n",
       "<table border=\"1\" class=\"dataframe\">\n",
       "  <thead>\n",
       "    <tr style=\"text-align: right;\">\n",
       "      <th></th>\n",
       "      <th>country_of_origin</th>\n",
       "      <th>region</th>\n",
       "      <th>altitude_low_meters</th>\n",
       "      <th>altitude_high_meters</th>\n",
       "      <th>altitude_mean_meters</th>\n",
       "      <th>altitude_min</th>\n",
       "      <th>altitude_max</th>\n",
       "    </tr>\n",
       "  </thead>\n",
       "  <tbody>\n",
       "    <tr>\n",
       "      <th>57</th>\n",
       "      <td>Guatemala</td>\n",
       "      <td>acatenango</td>\n",
       "      <td>1524.00</td>\n",
       "      <td>1524.000</td>\n",
       "      <td>1524.000</td>\n",
       "      <td>5000</td>\n",
       "      <td>5000</td>\n",
       "    </tr>\n",
       "    <tr>\n",
       "      <th>58</th>\n",
       "      <td>Guatemala</td>\n",
       "      <td>nuevo oriente</td>\n",
       "      <td>1417.32</td>\n",
       "      <td>1417.320</td>\n",
       "      <td>1417.320</td>\n",
       "      <td>4650</td>\n",
       "      <td>4650</td>\n",
       "    </tr>\n",
       "    <tr>\n",
       "      <th>69</th>\n",
       "      <td>Guatemala</td>\n",
       "      <td>huehuetenango</td>\n",
       "      <td>1706.88</td>\n",
       "      <td>1755.648</td>\n",
       "      <td>1731.264</td>\n",
       "      <td>5600</td>\n",
       "      <td>5760</td>\n",
       "    </tr>\n",
       "    <tr>\n",
       "      <th>105</th>\n",
       "      <td>Guatemala</td>\n",
       "      <td>chuva, san marcos</td>\n",
       "      <td>1066.80</td>\n",
       "      <td>1584.960</td>\n",
       "      <td>1325.880</td>\n",
       "      <td>3500</td>\n",
       "      <td>5200</td>\n",
       "    </tr>\n",
       "    <tr>\n",
       "      <th>138</th>\n",
       "      <td>Guatemala</td>\n",
       "      <td>oriente</td>\n",
       "      <td>1310.64</td>\n",
       "      <td>1310.640</td>\n",
       "      <td>1310.640</td>\n",
       "      <td>4300</td>\n",
       "      <td>4300</td>\n",
       "    </tr>\n",
       "    <tr>\n",
       "      <th>...</th>\n",
       "      <td>...</td>\n",
       "      <td>...</td>\n",
       "      <td>...</td>\n",
       "      <td>...</td>\n",
       "      <td>...</td>\n",
       "      <td>...</td>\n",
       "      <td>...</td>\n",
       "    </tr>\n",
       "    <tr>\n",
       "      <th>1274</th>\n",
       "      <td>Guatemala</td>\n",
       "      <td>oriente</td>\n",
       "      <td>1310.64</td>\n",
       "      <td>1310.640</td>\n",
       "      <td>1310.640</td>\n",
       "      <td>4300</td>\n",
       "      <td>4300</td>\n",
       "    </tr>\n",
       "    <tr>\n",
       "      <th>1287</th>\n",
       "      <td>Guatemala</td>\n",
       "      <td>oriente</td>\n",
       "      <td>1310.64</td>\n",
       "      <td>1310.640</td>\n",
       "      <td>1310.640</td>\n",
       "      <td>4300</td>\n",
       "      <td>4300</td>\n",
       "    </tr>\n",
       "    <tr>\n",
       "      <th>1309</th>\n",
       "      <td>Guatemala</td>\n",
       "      <td>nuevo oriente</td>\n",
       "      <td>1417.32</td>\n",
       "      <td>1417.320</td>\n",
       "      <td>1417.320</td>\n",
       "      <td>4650</td>\n",
       "      <td>4650</td>\n",
       "    </tr>\n",
       "    <tr>\n",
       "      <th>1312</th>\n",
       "      <td>India</td>\n",
       "      <td>chikmagalur karnataka indua</td>\n",
       "      <td>3170.00</td>\n",
       "      <td>3170.000</td>\n",
       "      <td>3170.000</td>\n",
       "      <td>3170</td>\n",
       "      <td>3170</td>\n",
       "    </tr>\n",
       "    <tr>\n",
       "      <th>1318</th>\n",
       "      <td>India</td>\n",
       "      <td>chikmagalur karnataka india</td>\n",
       "      <td>3140.00</td>\n",
       "      <td>3140.000</td>\n",
       "      <td>3140.000</td>\n",
       "      <td>3140</td>\n",
       "      <td>3140</td>\n",
       "    </tr>\n",
       "  </tbody>\n",
       "</table>\n",
       "<p>113 rows × 7 columns</p>\n",
       "</div>"
      ],
      "text/plain": [
       "     country_of_origin                       region  altitude_low_meters  \\\n",
       "57           Guatemala                   acatenango              1524.00   \n",
       "58           Guatemala                nuevo oriente              1417.32   \n",
       "69           Guatemala                huehuetenango              1706.88   \n",
       "105          Guatemala            chuva, san marcos              1066.80   \n",
       "138          Guatemala                      oriente              1310.64   \n",
       "...                ...                          ...                  ...   \n",
       "1274         Guatemala                      oriente              1310.64   \n",
       "1287         Guatemala                      oriente              1310.64   \n",
       "1309         Guatemala                nuevo oriente              1417.32   \n",
       "1312             India  chikmagalur karnataka indua              3170.00   \n",
       "1318             India  chikmagalur karnataka india              3140.00   \n",
       "\n",
       "      altitude_high_meters  altitude_mean_meters  altitude_min  altitude_max  \n",
       "57                1524.000              1524.000          5000          5000  \n",
       "58                1417.320              1417.320          4650          4650  \n",
       "69                1755.648              1731.264          5600          5760  \n",
       "105               1584.960              1325.880          3500          5200  \n",
       "138               1310.640              1310.640          4300          4300  \n",
       "...                    ...                   ...           ...           ...  \n",
       "1274              1310.640              1310.640          4300          4300  \n",
       "1287              1310.640              1310.640          4300          4300  \n",
       "1309              1417.320              1417.320          4650          4650  \n",
       "1312              3170.000              3170.000          3170          3170  \n",
       "1318              3140.000              3140.000          3140          3140  \n",
       "\n",
       "[113 rows x 7 columns]"
      ]
     },
     "execution_count": 247,
     "metadata": {},
     "output_type": "execute_result"
    }
   ],
   "source": [
    "coffee_data[['country_of_origin', 'region', 'altitude_low_meters', 'altitude_high_meters', 'altitude_mean_meters', 'altitude_min', 'altitude_max']][coffee_data.altitude_max > 3000]"
   ]
  },
  {
   "cell_type": "markdown",
   "id": "3c3b5118-9f8e-45c2-a200-1be89fa4b3bf",
   "metadata": {},
   "source": [
    "### * Problem 11. Clean and explore at will\n",
    "The dataset claimed to be clean, but we were able to discover a lot of things to fix and do better.\n",
    "\n",
    "Play around with the data as much as you wish, and if you find variables to tidy up and clean - by all means, do that!"
   ]
  },
  {
   "cell_type": "code",
   "execution_count": 248,
   "id": "928732cf-7ef4-471a-9818-139dd519eb45",
   "metadata": {},
   "outputs": [
    {
     "data": {
      "text/plain": [
       "0       8.75\n",
       "1       8.58\n",
       "2       8.42\n",
       "3       8.42\n",
       "4       8.50\n",
       "        ... \n",
       "1334    7.58\n",
       "1335    7.75\n",
       "1336    7.42\n",
       "1337    7.17\n",
       "1338    6.83\n",
       "Name: acidity, Length: 1339, dtype: float64"
      ]
     },
     "execution_count": 248,
     "metadata": {},
     "output_type": "execute_result"
    }
   ],
   "source": [
    "# sinsinel value\n",
    "coffee_data.acidity.fillna(-999)"
   ]
  },
  {
   "cell_type": "code",
   "execution_count": 249,
   "id": "a007da88-c127-4a35-9b2f-321e13f5f090",
   "metadata": {},
   "outputs": [
    {
     "data": {
      "text/plain": [
       "0       8.75\n",
       "1       8.58\n",
       "2       8.42\n",
       "3       8.42\n",
       "4       8.50\n",
       "        ... \n",
       "1334    7.58\n",
       "1335    7.75\n",
       "1336    7.42\n",
       "1337    7.17\n",
       "1338    6.83\n",
       "Name: acidity, Length: 1339, dtype: float64"
      ]
     },
     "execution_count": 249,
     "metadata": {},
     "output_type": "execute_result"
    }
   ],
   "source": [
    "# imputation\n",
    "coffee_data.acidity.fillna(coffee_data.acidity.mean())"
   ]
  },
  {
   "cell_type": "markdown",
   "id": "506be6b6-b212-40c4-b14e-7b4b43a5a705",
   "metadata": {},
   "source": [
    "Средно се взема, когато има тясно разпределение. При бимодално разпределение се взема може да се вземе средна стойност само на едната част от извадката, която отговаря на , т.е. взема се филтрирано средно."
   ]
  },
  {
   "cell_type": "code",
   "execution_count": 250,
   "id": "f3ce40c7-4e64-4c87-abcb-923fd62d474e",
   "metadata": {},
   "outputs": [
    {
     "data": {
      "text/plain": [
       "0         (7.75, 8.75]\n",
       "1         (7.75, 8.75]\n",
       "2         (7.75, 8.75]\n",
       "3         (7.75, 8.75]\n",
       "4         (7.75, 8.75]\n",
       "             ...      \n",
       "1334      (7.75, 8.75]\n",
       "1335    (-0.001, 7.25]\n",
       "1336    (-0.001, 7.25]\n",
       "1337    (-0.001, 7.25]\n",
       "1338    (-0.001, 7.25]\n",
       "Name: balance, Length: 1339, dtype: category\n",
       "Categories (5, interval[float64, right]): [(-0.001, 7.25] < (7.25, 7.5] < (7.5, 7.58] < (7.58, 7.75] < (7.75, 8.75]]"
      ]
     },
     "execution_count": 250,
     "metadata": {},
     "output_type": "execute_result"
    }
   ],
   "source": [
    "pd.qcut(coffee_data.balance, 5)"
   ]
  },
  {
   "cell_type": "markdown",
   "id": "ad9ee56f-e1b5-4a11-93bb-b0596af66beb",
   "metadata": {},
   "source": [
    "pd.qcut - разпределя множеството на в посочение бинове, като всеки бин има равен брой елементи и показва какви са граничните стойности на биновите."
   ]
  },
  {
   "cell_type": "code",
   "execution_count": 254,
   "id": "737a0e85-b0c3-49d2-8310-4d5a6ee2e085",
   "metadata": {},
   "outputs": [
    {
     "data": {
      "image/png": "[encoded data removed]",
      "text/plain": [
       "<Figure size 640x480 with 1 Axes>"
      ]
     },
     "metadata": {},
     "output_type": "display_data"
    }
   ],
   "source": [
    "plt.hist((coffee_data.balance - coffee_data.balance.mean()) / coffee_data.balance.std(), density=True) # Така се взема z- score\n",
    "plt.show()"
   ]
  },
  {
   "cell_type": "code",
   "execution_count": 253,
   "id": "9d0752af-4fb5-4dea-95af-5c3b0fe5b55b",
   "metadata": {},
   "outputs": [
    {
     "data": {
      "image/png": "[encoded data removed]",
      "text/plain": [
       "<Figure size 640x480 with 1 Axes>"
      ]
     },
     "metadata": {},
     "output_type": "display_data"
    }
   ],
   "source": [
    "plt.boxplot(coffee_data.balance) # изплзва се намиране на outliers\n",
    "plt.show()"
   ]
  },
  {
   "cell_type": "code",
   "execution_count": null,
   "id": "1d0bf21c-e117-4cb2-bf35-a6d6e3bf06bf",
   "metadata": {},
   "outputs": [],
   "source": []
  }
 ],
 "metadata": {
  "kernelspec": {
   "display_name": "Python 3 (ipykernel)",
   "language": "python",
   "name": "python3"
  },
  "language_info": {
   "codemirror_mode": {
    "name": "ipython",
    "version": 3
   },
   "file_extension": ".py",
   "mimetype": "text/x-python",
   "name": "python",
   "nbconvert_exporter": "python",
   "pygments_lexer": "ipython3",
   "version": "3.11.7"
  }
 },
 "nbformat": 4,
 "nbformat_minor": 5
}
