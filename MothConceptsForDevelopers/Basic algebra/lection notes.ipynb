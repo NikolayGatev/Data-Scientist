{
 "cells": [
  {
   "cell_type": "code",
   "execution_count": 13,
   "id": "b7c2ba6c-0691-4141-9ee0-6ddbcd0f59a9",
   "metadata": {},
   "outputs": [],
   "source": [
    "import numpy as np\n",
    "from numpy.polynomial import Polynomial"
   ]
  },
  {
   "cell_type": "code",
   "execution_count": 22,
   "id": "e121a104-1c51-4836-b51f-55588eb1714e",
   "metadata": {},
   "outputs": [
    {
     "data": {
      "text/latex": [
       "$x \\mapsto \\text{1.0} + \\text{2.0}\\,x + \\text{3.0}\\,x^{2}$"
      ],
      "text/plain": [
       "Polynomial([1., 2., 3.], domain=[-1,  1], window=[-1,  1], symbol='x')"
      ]
     },
     "execution_count": 22,
     "metadata": {},
     "output_type": "execute_result"
    }
   ],
   "source": [
    "Polynomial([1, 2, 3])"
   ]
  },
  {
   "cell_type": "code",
   "execution_count": 24,
   "id": "a35fce6d-be56-471a-aad7-5bc472f3e117",
   "metadata": {},
   "outputs": [],
   "source": [
    "p1 = Polynomial([-8, 5, 2]) # стемента на индекса е кодирана в номерата на индекса\n",
    "p2 = Polynomial([-2, 0, 0, 0, 3])"
   ]
  },
  {
   "cell_type": "code",
   "execution_count": 26,
   "id": "00b7aa60-cf69-401e-b6d0-bf8369548f46",
   "metadata": {},
   "outputs": [
    {
     "data": {
      "text/latex": [
       "$x \\mapsto \\text{-8.0} + \\text{5.0}\\,x + \\text{2.0}\\,x^{2}$"
      ],
      "text/plain": [
       "Polynomial([-8.,  5.,  2.], domain=[-1,  1], window=[-1,  1], symbol='x')"
      ]
     },
     "execution_count": 26,
     "metadata": {},
     "output_type": "execute_result"
    }
   ],
   "source": [
    "p1"
   ]
  },
  {
   "cell_type": "code",
   "execution_count": 28,
   "id": "172937e0-0626-407f-94b9-5f80a9438451",
   "metadata": {},
   "outputs": [
    {
     "data": {
      "text/latex": [
       "$x \\mapsto \\text{-2.0}\\color{LightGray}{ + \\text{0.0}\\,x}\\color{LightGray}{ + \\text{0.0}\\,x^{2}}\\color{LightGray}{ + \\text{0.0}\\,x^{3}} + \\text{3.0}\\,x^{4}$"
      ],
      "text/plain": [
       "Polynomial([-2.,  0.,  0.,  0.,  3.], domain=[-1,  1], window=[-1,  1], symbol='x')"
      ]
     },
     "execution_count": 28,
     "metadata": {},
     "output_type": "execute_result"
    }
   ],
   "source": [
    "p2"
   ]
  },
  {
   "cell_type": "code",
   "execution_count": 31,
   "id": "980529ea-2280-404f-a8d3-9767f3145548",
   "metadata": {},
   "outputs": [
    {
     "data": {
      "text/plain": [
       "array([-2.,  0.,  0.,  0.,  3.])"
      ]
     },
     "execution_count": 31,
     "metadata": {},
     "output_type": "execute_result"
    }
   ],
   "source": [
    "p2.coef"
   ]
  },
  {
   "cell_type": "code",
   "execution_count": 35,
   "id": "c4679f71-3d55-4eec-9881-d232e5c5144c",
   "metadata": {},
   "outputs": [
    {
     "name": "stdout",
     "output_type": "stream",
     "text": [
      "-10.0 + 5.0 x + 2.0 x**2 + 0.0 x**3 + 3.0 x**4\n"
     ]
    }
   ],
   "source": [
    "print(p1 + p2)"
   ]
  },
  {
   "cell_type": "code",
   "execution_count": 39,
   "id": "9b59f1d7-3dac-42e8-a197-14a30f6f6b99",
   "metadata": {},
   "outputs": [
    {
     "name": "stdout",
     "output_type": "stream",
     "text": [
      "16.0 - 10.0 x - 4.0 x**2 + 0.0 x**3 - 24.0 x**4 + 15.0 x**5 + 6.0 x**6\n"
     ]
    }
   ],
   "source": [
    "print(p1 * p2)"
   ]
  },
  {
   "cell_type": "code",
   "execution_count": 41,
   "id": "717cc519-61d2-48cb-84f2-26b36740e575",
   "metadata": {},
   "outputs": [
    {
     "name": "stdout",
     "output_type": "stream",
     "text": [
      "-24.0 + 15.0 x + 6.0 x**2\n"
     ]
    }
   ],
   "source": [
    "print(p1 * 3)"
   ]
  },
  {
   "cell_type": "code",
   "execution_count": 42,
   "id": "1b089916-7b1e-4245-96a3-358169a4a440",
   "metadata": {},
   "outputs": [
    {
     "name": "stdout",
     "output_type": "stream",
     "text": [
      "-4.0 + 2.5 x + 1.0 x**2\n"
     ]
    }
   ],
   "source": [
    "print(p1 / 2)"
   ]
  },
  {
   "cell_type": "code",
   "execution_count": 44,
   "id": "0b44f384-c0f3-4a87-8b01-e210f3286390",
   "metadata": {},
   "outputs": [
    {
     "data": {
      "text/plain": [
       "{1, 2, 3}"
      ]
     },
     "execution_count": 44,
     "metadata": {},
     "output_type": "execute_result"
    }
   ],
   "source": [
    "set([1, 1, 1, 2, 2, 3])"
   ]
  },
  {
   "cell_type": "code",
   "execution_count": 46,
   "id": "cd7ba461-04bd-496b-87ec-ed45192250b5",
   "metadata": {},
   "outputs": [],
   "source": [
    "set1 = {1, 2, 3, 4, 5}\n",
    "set2 = {3, 4, 5, 6, 7, 8, 9}"
   ]
  },
  {
   "cell_type": "code",
   "execution_count": 48,
   "id": "39601e8f-06c1-457f-94f0-351c8bc3fa73",
   "metadata": {},
   "outputs": [
    {
     "data": {
      "text/plain": [
       "{1, 2, 3, 4, 5, 6, 7, 8, 9}"
      ]
     },
     "execution_count": 48,
     "metadata": {},
     "output_type": "execute_result"
    }
   ],
   "source": [
    "set1.union(set2) "
   ]
  },
  {
   "cell_type": "code",
   "execution_count": 49,
   "id": "b46a180e-d276-4e7a-afa1-52f3599e0b57",
   "metadata": {},
   "outputs": [
    {
     "data": {
      "text/plain": [
       "{1, 2, 3, 4, 5, 6, 7, 8, 9}"
      ]
     },
     "execution_count": 49,
     "metadata": {},
     "output_type": "execute_result"
    }
   ],
   "source": [
    "set1 | set2 # equal on union"
   ]
  },
  {
   "cell_type": "code",
   "execution_count": 50,
   "id": "f331ebae-b8d8-4c6e-b9dd-d11cbe04beef",
   "metadata": {},
   "outputs": [
    {
     "data": {
      "text/plain": [
       "{3, 4, 5}"
      ]
     },
     "execution_count": 50,
     "metadata": {},
     "output_type": "execute_result"
    }
   ],
   "source": [
    "set1.intersection(set2)"
   ]
  },
  {
   "cell_type": "code",
   "execution_count": 51,
   "id": "b722eaf0-44cc-4a53-8903-43d0a8cea4b0",
   "metadata": {},
   "outputs": [
    {
     "data": {
      "text/plain": [
       "{3, 4, 5}"
      ]
     },
     "execution_count": 51,
     "metadata": {},
     "output_type": "execute_result"
    }
   ],
   "source": [
    "set1 & set2 # equal on intersection"
   ]
  },
  {
   "cell_type": "code",
   "execution_count": 53,
   "id": "bce4c783-6f5f-4b2c-9845-bb7b7acecf4e",
   "metadata": {},
   "outputs": [
    {
     "data": {
      "text/plain": [
       "{1, 2}"
      ]
     },
     "execution_count": 53,
     "metadata": {},
     "output_type": "execute_result"
    }
   ],
   "source": [
    "set1.difference(set2) # give elements from set1 which not contain in set2"
   ]
  },
  {
   "cell_type": "code",
   "execution_count": 55,
   "id": "da6ccb3a-8e2b-4747-8269-032f32599e3f",
   "metadata": {},
   "outputs": [
    {
     "data": {
      "text/plain": [
       "{6, 7, 8, 9}"
      ]
     },
     "execution_count": 55,
     "metadata": {},
     "output_type": "execute_result"
    }
   ],
   "source": [
    "set2.difference(set1)"
   ]
  },
  {
   "cell_type": "code",
   "execution_count": 58,
   "id": "2e1cf67b-4c54-4318-bfde-3539a2a8c611",
   "metadata": {},
   "outputs": [
    {
     "data": {
      "text/plain": [
       "{1, 2, 6, 7, 8, 9}"
      ]
     },
     "execution_count": 58,
     "metadata": {},
     "output_type": "execute_result"
    }
   ],
   "source": [
    "set1.symmetric_difference(set2) # give elements which contain only in one from sets"
   ]
  },
  {
   "cell_type": "code",
   "execution_count": 60,
   "id": "94269bdd-75ac-40d0-8968-562f6a013e5c",
   "metadata": {},
   "outputs": [
    {
     "data": {
      "text/plain": [
       "{1, 2, 6, 7, 8, 9}"
      ]
     },
     "execution_count": 60,
     "metadata": {},
     "output_type": "execute_result"
    }
   ],
   "source": [
    "set1 ^ set2 # other write on symmetric_differance"
   ]
  },
  {
   "cell_type": "code",
   "execution_count": 63,
   "id": "9bd18b90-d608-490c-a347-20a89a92d11f",
   "metadata": {},
   "outputs": [
    {
     "data": {
      "text/plain": [
       "(3.0, 2.0)"
      ]
     },
     "execution_count": 63,
     "metadata": {},
     "output_type": "execute_result"
    }
   ],
   "source": [
    "(3 + 2j).real, (3 + 2j).imag "
   ]
  },
  {
   "cell_type": "code",
   "execution_count": 64,
   "id": "3f5d8af3-f780-4b49-8df3-ee9b4dad1503",
   "metadata": {},
   "outputs": [
    {
     "data": {
      "text/plain": [
       "(-1+0j)"
      ]
     },
     "execution_count": 64,
     "metadata": {},
     "output_type": "execute_result"
    }
   ],
   "source": [
    "1j ** 2 # Def j^2 = -1"
   ]
  },
  {
   "cell_type": "code",
   "execution_count": 65,
   "id": "2bf05dad-b6f4-472e-a489-5833ab15d7fb",
   "metadata": {},
   "outputs": [
    {
     "name": "stdout",
     "output_type": "stream",
     "text": [
      "(11-1j)\n",
      "(11-1j)\n"
     ]
    }
   ],
   "source": [
    "print((3 + 2j) + (8 - 3j))\n",
    "print((3 + 2j) + (8 - 3j))"
   ]
  },
  {
   "cell_type": "code",
   "execution_count": 74,
   "id": "6b9042c2-4e27-4a8b-b654-83329199f0bd",
   "metadata": {},
   "outputs": [
    {
     "name": "stdout",
     "output_type": "stream",
     "text": [
      "-4.0 - 3.0 x + 1.0 x**2\n",
      "[-1.  4.]\n",
      "-4.0 + 0.0 x + 1.0 x**2\n",
      "[-2.  2.]\n",
      "1.0 + 2.0 x + 1.0 x**2\n",
      "[-1.00000001 -0.99999999]\n",
      "5.0 + 4.0 x + 1.0 x**2\n",
      "[-2.-1.j -2.+1.j]\n"
     ]
    }
   ],
   "source": [
    "coefs = [\n",
    "    [-4, -3, 1]\n",
    "    ,[-4, 0, 1]\n",
    "    ,[1, 2, 1]\n",
    "    ,[5, 4, 1]    \n",
    "]\n",
    "for c in coefs:\n",
    "    print(Polynomial(c))\n",
    "    print(Polynomial(c).roots())"
   ]
  },
  {
   "cell_type": "code",
   "execution_count": 72,
   "id": "6893060b-e250-4b1a-a115-b67debfae3eb",
   "metadata": {},
   "outputs": [
    {
     "ename": "SyntaxError",
     "evalue": "cannot assign to function call here. Maybe you meant '==' instead of '='? (795287808.py, line 1)",
     "output_type": "error",
     "traceback": [
      "\u001b[1;36m  Cell \u001b[1;32mIn[72], line 1\u001b[1;36m\u001b[0m\n\u001b[1;33m    (x - (-1))(x - 4) = (x + 1)(x - 4)\u001b[0m\n\u001b[1;37m    ^\u001b[0m\n\u001b[1;31mSyntaxError\u001b[0m\u001b[1;31m:\u001b[0m cannot assign to function call here. Maybe you meant '==' instead of '='?\n"
     ]
    }
   ],
   "source": [
    "(x - (-1))(x - 4) = (x + 1)(x - 4)"
   ]
  }
 ],
 "metadata": {
  "kernelspec": {
   "display_name": "Python 3 (ipykernel)",
   "language": "python",
   "name": "python3"
  },
  "language_info": {
   "codemirror_mode": {
    "name": "ipython",
    "version": 3
   },
   "file_extension": ".py",
   "mimetype": "text/x-python",
   "name": "python",
   "nbconvert_exporter": "python",
   "pygments_lexer": "ipython3",
   "version": "3.11.7"
  }
 },
 "nbformat": 4,
 "nbformat_minor": 5
}
