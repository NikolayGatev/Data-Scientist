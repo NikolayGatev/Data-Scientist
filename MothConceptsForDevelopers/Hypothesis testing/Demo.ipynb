{
 "cells": [
  {
   "cell_type": "code",
   "execution_count": 3,
   "id": "54393dc0-6e61-43fc-ba09-952cb01f9151",
   "metadata": {},
   "outputs": [],
   "source": [
    "%matplotlib inline"
   ]
  },
  {
   "cell_type": "code",
   "execution_count": 14,
   "id": "6a0d0da2-0fdb-4264-a742-35c2003bfbc9",
   "metadata": {},
   "outputs": [],
   "source": [
    "import numpy as np\n",
    "import pandas as pd\n",
    "import matplotlib.pyplot as plt\n",
    "\n",
    "import scipy.stats as st"
   ]
  },
  {
   "cell_type": "markdown",
   "id": "c091f538-ec67-46d4-8e54-862e9a0e92e4",
   "metadata": {},
   "source": [
    "# Hipothesis Testing\n",
    "## Demos"
   ]
  },
  {
   "cell_type": "code",
   "execution_count": 5,
   "id": "f89dfd6a-bfe3-4fcf-8350-bf380190f130",
   "metadata": {},
   "outputs": [],
   "source": [
    "heights = pd.read_csv('heights.dat')"
   ]
  },
  {
   "cell_type": "code",
   "execution_count": 7,
   "id": "203c0d28-757b-47a4-8c01-69ad7ea6920d",
   "metadata": {},
   "outputs": [
    {
     "data": {
      "text/plain": [
       "Height    159.774929\n",
       "dtype: float64"
      ]
     },
     "execution_count": 7,
     "metadata": {},
     "output_type": "execute_result"
    }
   ],
   "source": [
    "heights.mean()"
   ]
  },
  {
   "cell_type": "code",
   "execution_count": 11,
   "id": "ec925667-4cbe-4ef5-a408-76841ce28ba4",
   "metadata": {},
   "outputs": [
    {
     "data": {
      "text/plain": [
       "Height    0.129492\n",
       "dtype: float64"
      ]
     },
     "execution_count": 11,
     "metadata": {},
     "output_type": "execute_result"
    }
   ],
   "source": [
    "heights.skew()"
   ]
  },
  {
   "cell_type": "code",
   "execution_count": 10,
   "id": "587cbfc5-9463-49da-96d5-c9e8557872a8",
   "metadata": {},
   "outputs": [
    {
     "data": {
      "image/png": "[encoded data removed]",
      "text/plain": [
       "<Figure size 640x480 with 1 Axes>"
      ]
     },
     "metadata": {},
     "output_type": "display_data"
    }
   ],
   "source": [
    "plt.hist(heights, bins = 15)\n",
    "plt.show()"
   ]
  },
  {
   "cell_type": "code",
   "execution_count": 12,
   "id": "8ddce06d-b7f3-42ea-8ab7-7f157e677003",
   "metadata": {},
   "outputs": [
    {
     "data": {
      "text/plain": [
       "Height    6.02974\n",
       "dtype: float64"
      ]
     },
     "execution_count": 12,
     "metadata": {},
     "output_type": "execute_result"
    }
   ],
   "source": [
    "heights.std()"
   ]
  },
  {
   "cell_type": "code",
   "execution_count": 16,
   "id": "286edbe4-5400-438c-9c4e-e2cdc2a7747f",
   "metadata": {},
   "outputs": [
    {
     "data": {
      "text/plain": [
       "0.30853753872598755"
      ]
     },
     "execution_count": 16,
     "metadata": {},
     "output_type": "execute_result"
    }
   ],
   "source": [
    "st.norm.cdf(9.8, loc = 10, scale = 0.4)"
   ]
  },
  {
   "cell_type": "code",
   "execution_count": 17,
   "id": "886e7eb2-a109-4a84-8a18-4da4f5b97b5c",
   "metadata": {},
   "outputs": [
    {
     "data": {
      "text/plain": [
       "-1.9599639845400545"
      ]
     },
     "execution_count": 17,
     "metadata": {},
     "output_type": "execute_result"
    }
   ],
   "source": [
    "st.norm.ppf(0.025, loc = 0, scale = 1)"
   ]
  },
  {
   "cell_type": "code",
   "execution_count": 18,
   "id": "069da383-e1bd-43b6-aa00-c778a4fc23a9",
   "metadata": {},
   "outputs": [],
   "source": [
    "def get_real_confidence_interval(probability, mean, std):\n",
    "    lower_area = (1 - probability) / 2\n",
    "    upper_area = (1 + probability) / 2\n",
    "    return [\n",
    "        st.norm.ppf(lower_area, loc = mean, scale = std),\n",
    "        st.norm.ppf(upper_area, loc = mean, scale = std)]"
   ]
  },
  {
   "cell_type": "code",
   "execution_count": 19,
   "id": "6214f476-f734-4e0a-9fbc-063c23f8881e",
   "metadata": {},
   "outputs": [
    {
     "data": {
      "text/plain": [
       "[-1.959963984540054, 1.959963984540054]"
      ]
     },
     "execution_count": 19,
     "metadata": {},
     "output_type": "execute_result"
    }
   ],
   "source": [
    "get_real_confidence_interval(0.95, 0, 1)"
   ]
  },
  {
   "cell_type": "code",
   "execution_count": 21,
   "id": "e824d224-f9dd-48dd-a69f-25378869dcc7",
   "metadata": {},
   "outputs": [
    {
     "data": {
      "text/plain": [
       "[144.24334668583208, 175.30651086402548]"
      ]
     },
     "execution_count": 21,
     "metadata": {},
     "output_type": "execute_result"
    }
   ],
   "source": [
    "get_real_confidence_interval(0.99, heights.mean().values[0], heights.std().values[0])"
   ]
  },
  {
   "cell_type": "code",
   "execution_count": 23,
   "id": "170fc400-ed61-4720-ab9c-9025d23f9a63",
   "metadata": {},
   "outputs": [],
   "source": [
    "sample_data = st.norm.rvs(5, 10, 100)"
   ]
  },
  {
   "cell_type": "code",
   "execution_count": 26,
   "id": "86947e15-ca7e-4160-80b7-43199b7d310d",
   "metadata": {},
   "outputs": [
    {
     "data": {
      "text/plain": [
       "array([  0.54830339, -13.22278106,  -1.64992928,   8.17958711,\n",
       "        18.06837276,   8.34838549, -14.279987  ,  -0.11438243,\n",
       "        13.95020668,   6.03488439,   8.03473996,  -2.68318143,\n",
       "         4.93050452,  -0.45487346,   4.86758047,   8.30835325,\n",
       "        -7.10730235,   7.45611319,   8.3753522 ,   8.02491696,\n",
       "        10.11084301,  11.39136169,   0.94404953,   1.79217344,\n",
       "         3.95722731,  -1.35907864,   2.4955476 ,   0.10974855,\n",
       "         6.0707955 ,   6.51038445, -13.70250179,  -3.28746015,\n",
       "         2.87819169,   5.56998794,  -2.45816294,  21.15890024,\n",
       "         5.95483158,   4.92390616,  20.16900174,  12.77975919,\n",
       "        -3.18898226,  12.12407726,   7.22880902,  18.47320971,\n",
       "         5.08771226,  18.74059709,  12.71881883,   3.58185927,\n",
       "        14.93449403,   4.4392194 ,   1.13620438,   1.80633184,\n",
       "        -0.92225262,   4.05148398,  11.39828084,   3.08194674,\n",
       "        12.55663086,  24.43776053,  10.48150449,  16.88585038,\n",
       "        -7.6790426 ,  20.51776039,  10.09887466,  11.93702641,\n",
       "       -15.96424219,   5.69264749,   6.83555613,  -7.46087026,\n",
       "        -9.86706469,  -9.64987624,  16.31496591,  12.69224706,\n",
       "        -1.39847534,  13.21580769,  -4.91021836,  16.14451947,\n",
       "        -1.27862817,  11.92616224,  10.92638848,   2.9635413 ,\n",
       "        14.61559636,   3.35523411,  10.53684247,   7.33814933,\n",
       "        14.71749081,   3.31164224,   9.2697604 ,  14.50983818,\n",
       "         5.61751205,  18.08197673,   1.8720039 ,   8.16251202,\n",
       "         2.6203807 ,   2.98454593,   9.60204376,  11.10289936,\n",
       "        16.72902357,   7.07569231,  13.17258934,  18.22063939])"
      ]
     },
     "execution_count": 26,
     "metadata": {},
     "output_type": "execute_result"
    }
   ],
   "source": [
    "sample_data"
   ]
  },
  {
   "cell_type": "code",
   "execution_count": 27,
   "id": "8c675465-1856-4744-85f3-7d20d7b6b61f",
   "metadata": {},
   "outputs": [
    {
     "data": {
      "text/plain": [
       "TtestResult(statistic=4.95976572975322, pvalue=2.929894686721299e-06, df=99)"
      ]
     },
     "execution_count": 27,
     "metadata": {},
     "output_type": "execute_result"
    }
   ],
   "source": [
    "st.ttest_1samp(sample_data, 2)"
   ]
  },
  {
   "cell_type": "code",
   "execution_count": 32,
   "id": "cf32a8a4-3ae2-4555-8cab-5934442479dc",
   "metadata": {},
   "outputs": [
    {
     "data": {
      "text/html": [
       "<div>\n",
       "<style scoped>\n",
       "    .dataframe tbody tr th:only-of-type {\n",
       "        vertical-align: middle;\n",
       "    }\n",
       "\n",
       "    .dataframe tbody tr th {\n",
       "        vertical-align: top;\n",
       "    }\n",
       "\n",
       "    .dataframe thead th {\n",
       "        text-align: right;\n",
       "    }\n",
       "</style>\n",
       "<table border=\"1\" class=\"dataframe\">\n",
       "  <thead>\n",
       "    <tr style=\"text-align: right;\">\n",
       "      <th></th>\n",
       "      <th>Year</th>\n",
       "      <th>GreatNorthern</th>\n",
       "      <th>BigFour</th>\n",
       "    </tr>\n",
       "  </thead>\n",
       "  <tbody>\n",
       "    <tr>\n",
       "      <th>0</th>\n",
       "      <td>1912</td>\n",
       "      <td>71.0</td>\n",
       "      <td>54.7</td>\n",
       "    </tr>\n",
       "    <tr>\n",
       "      <th>1</th>\n",
       "      <td>1913</td>\n",
       "      <td>73.9</td>\n",
       "      <td>60.6</td>\n",
       "    </tr>\n",
       "    <tr>\n",
       "      <th>2</th>\n",
       "      <td>1914</td>\n",
       "      <td>48.9</td>\n",
       "      <td>45.1</td>\n",
       "    </tr>\n",
       "    <tr>\n",
       "      <th>3</th>\n",
       "      <td>1915</td>\n",
       "      <td>78.9</td>\n",
       "      <td>71.0</td>\n",
       "    </tr>\n",
       "    <tr>\n",
       "      <th>4</th>\n",
       "      <td>1916</td>\n",
       "      <td>43.5</td>\n",
       "      <td>40.9</td>\n",
       "    </tr>\n",
       "    <tr>\n",
       "      <th>5</th>\n",
       "      <td>1917</td>\n",
       "      <td>47.9</td>\n",
       "      <td>45.4</td>\n",
       "    </tr>\n",
       "    <tr>\n",
       "      <th>6</th>\n",
       "      <td>1918</td>\n",
       "      <td>63.0</td>\n",
       "      <td>53.4</td>\n",
       "    </tr>\n",
       "    <tr>\n",
       "      <th>7</th>\n",
       "      <td>1919</td>\n",
       "      <td>48.4</td>\n",
       "      <td>41.2</td>\n",
       "    </tr>\n",
       "    <tr>\n",
       "      <th>8</th>\n",
       "      <td>1920</td>\n",
       "      <td>48.1</td>\n",
       "      <td>44.8</td>\n",
       "    </tr>\n",
       "  </tbody>\n",
       "</table>\n",
       "</div>"
      ],
      "text/plain": [
       "   Year  GreatNorthern  BigFour\n",
       "0  1912           71.0     54.7\n",
       "1  1913           73.9     60.6\n",
       "2  1914           48.9     45.1\n",
       "3  1915           78.9     71.0\n",
       "4  1916           43.5     40.9\n",
       "5  1917           47.9     45.4\n",
       "6  1918           63.0     53.4\n",
       "7  1919           48.4     41.2\n",
       "8  1920           48.1     44.8"
      ]
     },
     "execution_count": 32,
     "metadata": {},
     "output_type": "execute_result"
    }
   ],
   "source": [
    "grain_data = pd.read_csv('grain_data.dat', sep = '\\t')\n",
    "grain_data"
   ]
  },
  {
   "cell_type": "code",
   "execution_count": 35,
   "id": "733626f7-1cf4-4a76-bca7-9e767b2761ec",
   "metadata": {},
   "outputs": [
    {
     "data": {
      "text/plain": [
       "TtestResult(statistic=1.312336706487564, pvalue=0.20792200785311768, df=16.0)"
      ]
     },
     "execution_count": 35,
     "metadata": {},
     "output_type": "execute_result"
    }
   ],
   "source": [
    "st.ttest_ind(grain_data.GreatNorthern, grain_data.BigFour)"
   ]
  },
  {
   "cell_type": "code",
   "execution_count": 36,
   "id": "ae56a3f2-d534-4685-a877-e9b2c22eade3",
   "metadata": {},
   "outputs": [
    {
     "data": {
      "text/html": [
       "<div>\n",
       "<style scoped>\n",
       "    .dataframe tbody tr th:only-of-type {\n",
       "        vertical-align: middle;\n",
       "    }\n",
       "\n",
       "    .dataframe tbody tr th {\n",
       "        vertical-align: top;\n",
       "    }\n",
       "\n",
       "    .dataframe thead th {\n",
       "        text-align: right;\n",
       "    }\n",
       "</style>\n",
       "<table border=\"1\" class=\"dataframe\">\n",
       "  <thead>\n",
       "    <tr style=\"text-align: right;\">\n",
       "      <th></th>\n",
       "      <th>bottom</th>\n",
       "      <th>surface</th>\n",
       "    </tr>\n",
       "  </thead>\n",
       "  <tbody>\n",
       "    <tr>\n",
       "      <th>0</th>\n",
       "      <td>0.430</td>\n",
       "      <td>0.415</td>\n",
       "    </tr>\n",
       "    <tr>\n",
       "      <th>1</th>\n",
       "      <td>0.266</td>\n",
       "      <td>0.238</td>\n",
       "    </tr>\n",
       "    <tr>\n",
       "      <th>2</th>\n",
       "      <td>0.567</td>\n",
       "      <td>0.390</td>\n",
       "    </tr>\n",
       "    <tr>\n",
       "      <th>3</th>\n",
       "      <td>0.531</td>\n",
       "      <td>0.410</td>\n",
       "    </tr>\n",
       "    <tr>\n",
       "      <th>4</th>\n",
       "      <td>0.707</td>\n",
       "      <td>0.605</td>\n",
       "    </tr>\n",
       "    <tr>\n",
       "      <th>5</th>\n",
       "      <td>0.716</td>\n",
       "      <td>0.609</td>\n",
       "    </tr>\n",
       "    <tr>\n",
       "      <th>6</th>\n",
       "      <td>0.651</td>\n",
       "      <td>0.632</td>\n",
       "    </tr>\n",
       "    <tr>\n",
       "      <th>7</th>\n",
       "      <td>0.589</td>\n",
       "      <td>0.523</td>\n",
       "    </tr>\n",
       "    <tr>\n",
       "      <th>8</th>\n",
       "      <td>0.469</td>\n",
       "      <td>0.411</td>\n",
       "    </tr>\n",
       "    <tr>\n",
       "      <th>9</th>\n",
       "      <td>0.723</td>\n",
       "      <td>0.612</td>\n",
       "    </tr>\n",
       "  </tbody>\n",
       "</table>\n",
       "</div>"
      ],
      "text/plain": [
       "   bottom  surface\n",
       "0   0.430    0.415\n",
       "1   0.266    0.238\n",
       "2   0.567    0.390\n",
       "3   0.531    0.410\n",
       "4   0.707    0.605\n",
       "5   0.716    0.609\n",
       "6   0.651    0.632\n",
       "7   0.589    0.523\n",
       "8   0.469    0.411\n",
       "9   0.723    0.612"
      ]
     },
     "execution_count": 36,
     "metadata": {},
     "output_type": "execute_result"
    }
   ],
   "source": [
    "water_data = pd.read_table('water_data.dat')\n",
    "water_data"
   ]
  },
  {
   "cell_type": "code",
   "execution_count": 39,
   "id": "ace4287a-1843-4a25-9808-5043198fd028",
   "metadata": {},
   "outputs": [
    {
     "data": {
      "text/plain": [
       "TtestResult(statistic=1.2913112256801191, pvalue=0.21293323725303406, df=18.0)"
      ]
     },
     "execution_count": 39,
     "metadata": {},
     "output_type": "execute_result"
    }
   ],
   "source": [
    "st.ttest_ind(water_data.bottom, water_data.surface)"
   ]
  },
  {
   "cell_type": "code",
   "execution_count": 40,
   "id": "8d859b12-f03d-4202-91bb-283a928be809",
   "metadata": {},
   "outputs": [
    {
     "data": {
      "text/plain": [
       "TtestResult(statistic=4.863812745135183, pvalue=0.0008911154578225479, df=9)"
      ]
     },
     "execution_count": 40,
     "metadata": {},
     "output_type": "execute_result"
    }
   ],
   "source": [
    "st.ttest_rel(water_data.bottom, water_data.surface)"
   ]
  },
  {
   "cell_type": "code",
   "execution_count": null,
   "id": "bd653ae3-256b-4e82-b59f-3afb3cfa9a5d",
   "metadata": {},
   "outputs": [],
   "source": []
  }
 ],
 "metadata": {
  "kernelspec": {
   "display_name": "Python 3 (ipykernel)",
   "language": "python",
   "name": "python3"
  },
  "language_info": {
   "codemirror_mode": {
    "name": "ipython",
    "version": 3
   },
   "file_extension": ".py",
   "mimetype": "text/x-python",
   "name": "python",
   "nbconvert_exporter": "python",
   "pygments_lexer": "ipython3",
   "version": "3.11.7"
  }
 },
 "nbformat": 4,
 "nbformat_minor": 5
}
