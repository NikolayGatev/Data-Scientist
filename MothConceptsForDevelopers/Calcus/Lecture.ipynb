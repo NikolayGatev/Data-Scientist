{
 "cells": [
  {
   "cell_type": "code",
   "execution_count": 1,
   "id": "2ed5caa4-fc32-43a2-a44a-9bd9a3fccdcc",
   "metadata": {},
   "outputs": [],
   "source": [
    "import numpy as np\n",
    "import matplotlib.pyplot as plt"
   ]
  },
  {
   "cell_type": "markdown",
   "id": "46a09fdd-6028-46ad-80fa-e474045a0186",
   "metadata": {},
   "source": [
    "# Calculus\n",
    "## Live Demos"
   ]
  },
  {
   "cell_type": "code",
   "execution_count": 9,
   "id": "0e6d2c33-88aa-4d34-9c6e-2ce666aa5e49",
   "metadata": {},
   "outputs": [],
   "source": [
    "def get_limit(f, a):\n",
    "    epsilon = np.array([\n",
    "        10 ** p\n",
    "        for p in np.arange(0, -11, -1, dtype = float)])\n",
    "    x = np.append(a - epsilon, (a + epsilon)[::-1])\n",
    "    y = f(x)\n",
    "    return np.stack([x, y], axis = 1)"
   ]
  },
  {
   "cell_type": "code",
   "execution_count": 10,
   "id": "e38f82f2-d43b-4c17-ac76-b39b0b5e300b",
   "metadata": {},
   "outputs": [
    {
     "name": "stdout",
     "output_type": "stream",
     "text": [
      "[2.         2.9        2.99       2.999      2.9999     2.99999\n",
      " 2.999999   2.9999999  2.99999999 3.         3.         3.\n",
      " 3.         3.00000001 3.0000001  3.000001   3.00001    3.0001\n",
      " 3.001      3.01       3.1        4.        ]\n"
     ]
    },
    {
     "data": {
      "text/plain": [
       "array([[ 2.        ,  4.        ],\n",
       "       [ 2.9       ,  8.41      ],\n",
       "       [ 2.99      ,  8.9401    ],\n",
       "       [ 2.999     ,  8.994001  ],\n",
       "       [ 2.9999    ,  8.99940001],\n",
       "       [ 2.99999   ,  8.99994   ],\n",
       "       [ 2.999999  ,  8.999994  ],\n",
       "       [ 2.9999999 ,  8.9999994 ],\n",
       "       [ 2.99999999,  8.99999994],\n",
       "       [ 3.        ,  8.99999999],\n",
       "       [ 3.        ,  9.        ],\n",
       "       [ 3.        ,  9.        ],\n",
       "       [ 3.        ,  9.00000001],\n",
       "       [ 3.00000001,  9.00000006],\n",
       "       [ 3.0000001 ,  9.0000006 ],\n",
       "       [ 3.000001  ,  9.000006  ],\n",
       "       [ 3.00001   ,  9.00006   ],\n",
       "       [ 3.0001    ,  9.00060001],\n",
       "       [ 3.001     ,  9.006001  ],\n",
       "       [ 3.01      ,  9.0601    ],\n",
       "       [ 3.1       ,  9.61      ],\n",
       "       [ 4.        , 16.        ]])"
      ]
     },
     "execution_count": 10,
     "metadata": {},
     "output_type": "execute_result"
    }
   ],
   "source": [
    "get_limit(lambda x: x ** 2, 3)"
   ]
  },
  {
   "cell_type": "code",
   "execution_count": 12,
   "id": "b9b80a92-007e-448f-b58d-ce7938ee05d8",
   "metadata": {},
   "outputs": [
    {
     "name": "stdout",
     "output_type": "stream",
     "text": [
      "23.00000026878024\n"
     ]
    }
   ],
   "source": [
    "def calculate_derivative(f, a, h = 1e-7):\n",
    "    return (f(a + h) - f(a)) / h\n",
    "print(\n",
    "    calculate_derivative(\n",
    "    lambda x: 3 * x**2 + 5 * x - 8, 3)\n",
    ")"
   ]
  },
  {
   "cell_type": "code",
   "execution_count": 11,
   "id": "d87ac799-064d-4214-8502-e8b53d3fdeef",
   "metadata": {},
   "outputs": [
    {
     "name": "stdout",
     "output_type": "stream",
     "text": [
      "The local minimum occurs at  2.2499646074278457\n"
     ]
    }
   ],
   "source": [
    "x_old = 0\n",
    "x_new = 6\n",
    "step_size = 0.01\n",
    "precision = 0.00001\n",
    "def df(x):\n",
    "    # f'(x^4 - 3x^3 + 2) = 4x^3 - 9x^2\n",
    "    y = 4 * x ** 3 - 9 * x ** 2\n",
    "    return y\n",
    "while abs(x_new - x_old) > precision:\n",
    "    x_old = x_new\n",
    "    x_new += -step_size * df(x_old)\n",
    "print(\"The local minimum occurs at \", x_new)"
   ]
  },
  {
   "cell_type": "code",
   "execution_count": null,
   "id": "487b06b9-da44-4681-9895-74a8058fd124",
   "metadata": {},
   "outputs": [],
   "source": []
  }
 ],
 "metadata": {
  "kernelspec": {
   "display_name": "Python 3 (ipykernel)",
   "language": "python",
   "name": "python3"
  },
  "language_info": {
   "codemirror_mode": {
    "name": "ipython",
    "version": 3
   },
   "file_extension": ".py",
   "mimetype": "text/x-python",
   "name": "python",
   "nbconvert_exporter": "python",
   "pygments_lexer": "ipython3",
   "version": "3.11.7"
  }
 },
 "nbformat": 4,
 "nbformat_minor": 5
}
